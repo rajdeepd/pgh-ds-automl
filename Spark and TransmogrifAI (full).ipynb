{
 "cells": [
  {
   "cell_type": "markdown",
   "metadata": {},
   "source": [
    "<a id=\"toc\"></a>\n",
    "## Table of Contents\n",
    "\n",
    "[Spark](#spark)\n",
    "\n",
    "[TransmogrifAI](#automl)\n"
   ]
  },
  {
   "cell_type": "markdown",
   "metadata": {},
   "source": [
    "<a id=\"scala\"></a>\n",
    "## Scala\n",
    "\n",
    "[Table of Contents](#toc)"
   ]
  },
  {
   "cell_type": "code",
   "execution_count": 1,
   "metadata": {},
   "outputs": [
    {
     "data": {
      "text/plain": [
       "version 2.11.12"
      ]
     },
     "execution_count": 1,
     "metadata": {},
     "output_type": "execute_result"
    }
   ],
   "source": [
    "scala.util.Properties.versionString"
   ]
  },
  {
   "cell_type": "markdown",
   "metadata": {},
   "source": [
    "<a id=\"automl\"></a>\n",
    "## Get TransmogrifAI\n",
    "\n",
    "[Table of Contents](#toc)"
   ]
  },
  {
   "cell_type": "code",
   "execution_count": 2,
   "metadata": {},
   "outputs": [
    {
     "data": {
      "application/vnd.jupyter.widget-view+json": {
       "model_id": "",
       "version_major": 2,
       "version_minor": 0
      },
      "method": "display_data"
     },
     "metadata": {},
     "output_type": "display_data"
    },
    {
     "data": {
      "application/vnd.jupyter.widget-view+json": {
       "model_id": "5324d4f0-cb3c-4695-9d82-658eef71fec1",
       "version_major": 2,
       "version_minor": 0
      },
      "method": "display_data"
     },
     "metadata": {},
     "output_type": "display_data"
    }
   ],
   "source": [
    "%classpath add mvn com.salesforce.transmogrifai transmogrifai-core_2.11 0.5.0"
   ]
  },
  {
   "cell_type": "markdown",
   "metadata": {},
   "source": [
    "<a id=\"spark\"></a>\n",
    "## Get Spark \n",
    "\n",
    "[Table of Contents](#toc)"
   ]
  },
  {
   "cell_type": "code",
   "execution_count": 3,
   "metadata": {},
   "outputs": [
    {
     "data": {
      "application/vnd.jupyter.widget-view+json": {
       "model_id": "",
       "version_major": 2,
       "version_minor": 0
      },
      "method": "display_data"
     },
     "metadata": {},
     "output_type": "display_data"
    },
    {
     "data": {
      "application/vnd.jupyter.widget-view+json": {
       "model_id": "d5f9d320-d93e-4e1c-9ab4-14bdba3deb35",
       "version_major": 2,
       "version_minor": 0
      },
      "method": "display_data"
     },
     "metadata": {},
     "output_type": "display_data"
    }
   ],
   "source": [
    "%classpath add mvn org.apache.spark spark-mllib_2.11 2.3.0"
   ]
  },
  {
   "cell_type": "markdown",
   "metadata": {},
   "source": [
    "Grabbing mllib gets spark-core, spark-mllib and spark-sql"
   ]
  },
  {
   "cell_type": "markdown",
   "metadata": {},
   "source": [
    "## Get Started"
   ]
  },
  {
   "cell_type": "code",
   "execution_count": 4,
   "metadata": {},
   "outputs": [
    {
     "data": {
      "text/plain": [
       "import org.apache.spark.SparkConf\n",
       "import org.apache.spark.sql.SparkSession\n",
       "import org.apache.spark.SparkContext\n"
      ]
     },
     "execution_count": 4,
     "metadata": {},
     "output_type": "execute_result"
    }
   ],
   "source": [
    "import org.apache.spark.SparkConf\n",
    "import org.apache.spark.sql.SparkSession\n",
    "import org.apache.spark.SparkContext"
   ]
  },
  {
   "cell_type": "code",
   "execution_count": 7,
   "metadata": {},
   "outputs": [
    {
     "data": {
      "text/plain": [
       "import com.salesforce.op._\n",
       "import com.salesforce.op.features._\n",
       "import com.salesforce.op.features.types._\n",
       "import com.salesforce.op.stages.impl.classification._\n",
       "import com.salesforce.op.evaluators.Evaluators\n"
      ]
     },
     "execution_count": 7,
     "metadata": {},
     "output_type": "execute_result"
    }
   ],
   "source": [
    "import com.salesforce.op._\n",
    "import com.salesforce.op.features._\n",
    "import com.salesforce.op.features.types._\n",
    "import com.salesforce.op.stages.impl.classification._\n",
    "import com.salesforce.op.evaluators.Evaluators"
   ]
  },
  {
   "cell_type": "code",
   "execution_count": 8,
   "metadata": {},
   "outputs": [],
   "source": [
    "org.apache.log4j.Logger.getRootLogger().setLevel(org.apache.log4j.Level.WARN);"
   ]
  },
  {
   "cell_type": "code",
   "execution_count": 9,
   "metadata": {},
   "outputs": [
    {
     "data": {
      "text/plain": [
       "org.apache.spark.sql.SparkSession$implicits$@735019e9"
      ]
     },
     "execution_count": 9,
     "metadata": {},
     "output_type": "execute_result"
    }
   ],
   "source": [
    "val conf = new SparkConf().setMaster(\"local[*]\").setAppName(\"automl-app\") // Spark configuration\n",
    "val sc = new SparkContext(conf)  // initialize spark context\n",
    "val sqlContext = new org.apache.spark.sql.SQLContext(sc)  // initialize sql context\n",
    "implicit val spark = SparkSession.builder.config(conf).getOrCreate() // start spark session \n",
    "import spark.implicits._"
   ]
  },
  {
   "cell_type": "markdown",
   "metadata": {},
   "source": [
    "## Get Data\n",
    "\n",
    "Using the SparkSQL Context, we'll read in the titanic dataset.  "
   ]
  },
  {
   "cell_type": "code",
   "execution_count": 10,
   "metadata": {},
   "outputs": [
    {
     "data": {
      "text/plain": [
       "[PassengerId: int, Survived: int ... 10 more fields]"
      ]
     },
     "execution_count": 10,
     "metadata": {},
     "output_type": "execute_result"
    }
   ],
   "source": [
    "val rawData = sqlContext.read.format(\"csv\").option(\"header\", \"true\").option(\"inferSchema\", \"true\").load(\"titanic_with_headers.csv\")"
   ]
  },
  {
   "cell_type": "code",
   "execution_count": 11,
   "metadata": {},
   "outputs": [
    {
     "name": "stdout",
     "output_type": "stream",
     "text": [
      "root\n",
      " |-- PassengerId: integer (nullable = true)\n",
      " |-- Survived: integer (nullable = true)\n",
      " |-- Pclass: integer (nullable = true)\n",
      " |-- Name: string (nullable = true)\n",
      " |-- Sex: string (nullable = true)\n",
      " |-- Age: double (nullable = true)\n",
      " |-- SibSp: integer (nullable = true)\n",
      " |-- Parch: integer (nullable = true)\n",
      " |-- Ticket: string (nullable = true)\n",
      " |-- Fare: double (nullable = true)\n",
      " |-- Cabin: string (nullable = true)\n",
      " |-- Embarked: string (nullable = true)\n",
      "\n"
     ]
    }
   ],
   "source": [
    "rawData.printSchema"
   ]
  },
  {
   "cell_type": "code",
   "execution_count": 44,
   "metadata": {},
   "outputs": [
    {
     "name": "stdout",
     "output_type": "stream",
     "text": [
      "PassengerId,Survived,Pclass,Name,Sex,Age,SibSp,Parch,Ticket,Fare,Cabin,Embarked\n",
      "[1,0,3,Braund, Mr. Owen Harris,male,22.0,1,0,A/5 21171,7.25,null,S]\n",
      "[2,1,1,Cumings, Mrs. John Bradley (Florence Briggs Thayer),female,38.0,1,0,PC 17599,71.2833,C85,C]\n",
      "[3,1,3,Heikkinen, Miss. Laina,female,26.0,0,0,STON/O2. 3101282,7.925,null,S]\n",
      "[4,1,1,Futrelle, Mrs. Jacques Heath (Lily May Peel),female,35.0,1,0,113803,53.1,C123,S]\n",
      "[5,0,3,Allen, Mr. William Henry,male,35.0,0,0,373450,8.05,null,S]\n"
     ]
    }
   ],
   "source": [
    "println(rawData.columns.mkString(\",\"))\n",
    "rawData.take(5).foreach(println)"
   ]
  },
  {
   "cell_type": "markdown",
   "metadata": {},
   "source": [
    "It is important to note - we want to get a model in a few steps as possible, so we will require that any numeric variable will be a double.  This is important for when we read the data into our feature engineering.  It will, by default, handle one type of numeric type or a string.  "
   ]
  },
  {
   "cell_type": "code",
   "execution_count": 13,
   "metadata": {},
   "outputs": [
    {
     "data": {
      "text/plain": [
       "[id: double, survived: double ... 10 more fields]"
      ]
     },
     "execution_count": 13,
     "metadata": {},
     "output_type": "execute_result"
    }
   ],
   "source": [
    "// cast all non doulbe numeric types to double\n",
    "rawData.createOrReplaceTempView(\"raw\")\n",
    "val passengerData = spark.sql(\"\"\"\n",
    "    select \n",
    "      cast(passengerId as double) as id, \n",
    "      cast(survived as double) as survived, \n",
    "      cast(pclass as double) as pclass,+\n",
    "      name, sex, age, \n",
    "      cast(sibsp as double) as sibsp, \n",
    "      cast(parch as double) as parch, \n",
    "      ticket, fare, cabin, embarked \n",
    "      from raw\n",
    "\"\"\")"
   ]
  },
  {
   "cell_type": "markdown",
   "metadata": {},
   "source": [
    "## Declare target and features. \n",
    "\n",
    "Below, The `FeatureBuilder` object has a method `fromDataFrame`, to which we pass the DataFrame `passengerData` created above as well as the name of the target variable, in this case `survived`.  It is important to point out that the `RealNN` is a type parameterization (well beyond the scope of this talk), but in short, it will make it a requirement that all fields in the DataFrame which are numeric to have a Double data type.  If not you will get an error.  It should be clear that every field which is not `survived` will be treated as a potential feature in the feature engineering section.  "
   ]
  },
  {
   "cell_type": "code",
   "execution_count": 14,
   "metadata": {},
   "outputs": [],
   "source": [
    "val (target, features) = FeatureBuilder.fromDataFrame[RealNN](passengerData, response = \"survived\")\n",
    "OutputCell.HIDDEN"
   ]
  },
  {
   "cell_type": "markdown",
   "metadata": {},
   "source": [
    "The `features` variables which is returned in the previous cell is a sequence of features.  And as is, it is not entirely useful.  Our ML algorithms was numbers, and we still have text floating around in our feature set.  So we will need to perform one hot encodings.  "
   ]
  },
  {
   "cell_type": "code",
   "execution_count": 15,
   "metadata": {},
   "outputs": [
    {
     "name": "stdout",
     "output_type": "stream",
     "text": [
      "Feature(name = id, uid = Real_000000000001, isResponse = false, originStage = FeatureGeneratorStage_000000000001, parents = [], distributions = [])\n",
      "\n",
      "Feature(name = pclass, uid = Real_000000000003, isResponse = false, originStage = FeatureGeneratorStage_000000000003, parents = [], distributions = [])\n",
      "\n",
      "Feature(name = name, uid = Text_000000000004, isResponse = false, originStage = FeatureGeneratorStage_000000000004, parents = [], distributions = [])\n",
      "\n",
      "Feature(name = sex, uid = Text_000000000005, isResponse = false, originStage = FeatureGeneratorStage_000000000005, parents = [], distributions = [])\n",
      "\n",
      "Feature(name = age, uid = Real_000000000006, isResponse = false, originStage = FeatureGeneratorStage_000000000006, parents = [], distributions = [])\n",
      "\n",
      "Feature(name = sibsp, uid = Real_000000000007, isResponse = false, originStage = FeatureGeneratorStage_000000000007, parents = [], distributions = [])\n",
      "\n",
      "Feature(name = parch, uid = Real_000000000008, isResponse = false, originStage = FeatureGeneratorStage_000000000008, parents = [], distributions = [])\n",
      "\n",
      "Feature(name = ticket, uid = Text_000000000009, isResponse = false, originStage = FeatureGeneratorStage_000000000009, parents = [], distributions = [])\n",
      "\n",
      "Feature(name = fare, uid = Real_00000000000a, isResponse = false, originStage = FeatureGeneratorStage_00000000000a, parents = [], distributions = [])\n",
      "\n",
      "Feature(name = cabin, uid = Text_00000000000b, isResponse = false, originStage = FeatureGeneratorStage_00000000000b, parents = [], distributions = [])\n",
      "\n",
      "Feature(name = embarked, uid = Text_00000000000c, isResponse = false, originStage = FeatureGeneratorStage_00000000000c, parents = [], distributions = [])\n",
      "\n"
     ]
    }
   ],
   "source": [
    "features.foreach(i => println(i + \"\\n\"))"
   ]
  },
  {
   "cell_type": "markdown",
   "metadata": {},
   "source": [
    "### Transmogrify\n",
    "\n",
    "Our next step with be to transmogrify the sequence of features to a feature vector.  \n",
    "\n",
    "This is like sparks VectorAssembler on steriods. \n",
    "\n",
    "The `transmogrify` method takes in a sequence of features, automatically applies default transformations to them based on feature types (e.g. imputation, null value tracking, one hot encoding, tokenization, split Emails and pivot out the top K domains) and combines them into a single vector.\n",
    "\n",
    "Mind you, we have not declared any special types other than text, so it will probably just do tokeniziation and to bag of words, null value tracking and maybe som imputation on the numeric data types will null values.  "
   ]
  },
  {
   "cell_type": "code",
   "execution_count": 16,
   "metadata": {},
   "outputs": [
    {
     "data": {
      "text/plain": [
       "Feature(name = age-cabin-embarked-fare-id-name-parch-pclass-sex-sibsp-ticket_3-stagesApplied_OPVector_00000000000f, uid = OPVector_00000000000f, isResponse = false, originStage = VectorsCombiner_00000000000f, parents = [OPVector_00000000000d,OPVector_00000000000e], distributions = [])"
      ]
     },
     "execution_count": 16,
     "metadata": {},
     "output_type": "execute_result"
    }
   ],
   "source": [
    "val featureVector = features.transmogrify()"
   ]
  },
  {
   "cell_type": "markdown",
   "metadata": {},
   "source": [
    "Upon inspecting the `featureVector.toString`, we can see the name of our feature vector.  It is essentially a concatenation of all the fields that we said were features as well as the total number of stages that have been appied.  It provides no insight into the transmogrified feature vector.  "
   ]
  },
  {
   "cell_type": "code",
   "execution_count": 17,
   "metadata": {},
   "outputs": [
    {
     "name": "stdout",
     "output_type": "stream",
     "text": [
      "Feature(name = age-fare-id-parch-pclass-sibsp_1-stagesApplied_OPVector_00000000000d, uid = OPVector_00000000000d, isResponse = false, originStage = RealVectorizer_00000000000d, parents = [Real_000000000001,Real_000000000003,Real_000000000006,Real_000000000007,Real_000000000008,Real_00000000000a], distributions = [])\n",
      "\n",
      "Feature(name = cabin-embarked-name-sex-ticket_1-stagesApplied_OPVector_00000000000e, uid = OPVector_00000000000e, isResponse = false, originStage = SmartTextVectorizer_00000000000e, parents = [Text_000000000004,Text_000000000005,Text_000000000009,Text_00000000000b,Text_00000000000c], distributions = [])\n",
      "\n"
     ]
    }
   ],
   "source": [
    "featureVector.parents.foreach(v => println(v + \"\\n\"))"
   ]
  },
  {
   "cell_type": "markdown",
   "metadata": {},
   "source": [
    "#### Transmogrify for numeric variables"
   ]
  },
  {
   "cell_type": "code",
   "execution_count": 55,
   "metadata": {},
   "outputs": [
    {
     "name": "stdout",
     "output_type": "stream",
     "text": [
      "just a few examples of options for transmogrify on numeric variables\n"
     ]
    },
    {
     "data": {
      "text/plain": [
       "fillValue: default value for FillWithConstant (default: 0.0)\n",
       "\n",
       "inputFeatures: Input features (default: [Lcom.salesforce.op.features.TransientFeature;@73899234, current: [Lcom.salesforce.op.features.TransientFeature;@18b205b6)\n",
       "\n",
       "inputSchema: the schema of the input data from the dataframe (default: StructType(), current: StructType(StructField(id,DoubleType,true), StructField(pclass,DoubleType,true), StructField(age,DoubleType,true), StructField(sibsp,DoubleType,true), StructField(parch,DoubleType,true), StructField(fare,DoubleType,true)))\n",
       "\n",
       "outputFeatureName: output name that overrides default output name for feature made by this stage (undefined)"
      ]
     },
     "execution_count": 55,
     "metadata": {},
     "output_type": "execute_result"
    }
   ],
   "source": [
    "println(\"just a few examples of options for transmogrify on numeric variables\")\n",
    "featureVector.parents(0).originStage.explainParams.split(\"\\n\").take(4).mkString(\"\\n\\n\")"
   ]
  },
  {
   "cell_type": "markdown",
   "metadata": {},
   "source": [
    "#### Transmogrify for non numeric variables. "
   ]
  },
  {
   "cell_type": "code",
   "execution_count": 53,
   "metadata": {},
   "outputs": [
    {
     "name": "stdout",
     "output_type": "stream",
     "text": [
      "just a few examples of options for transmogrify on non numeric variables\n"
     ]
    },
    {
     "data": {
      "text/plain": [
       "autoDetectLanguage: whether to attempt language detection (default: false, current: false)\n",
       "\n",
       "autoDetectThreshold: language detection threshold (default: 0.99, current: 0.99)\n",
       "\n",
       "binaryFreq: if true, term frequency vector will be binary such that non-zero term counts will be set to 1.0 (default: false, current: false)\n",
       "\n",
       "cleanText: ignore capitalization and punctuation in grouping categories (default: true, current: true)\n",
       "\n",
       "defaultLanguage: default language (default: unknown, current: unknown)"
      ]
     },
     "execution_count": 53,
     "metadata": {},
     "output_type": "execute_result"
    }
   ],
   "source": [
    "println(\"just a few examples of options for transmogrify on non numeric variables\")\n",
    "featureVector.parents(1).originStage.explainParams.split(\"\\n\").take(5).mkString(\"\\n\\n\")"
   ]
  },
  {
   "cell_type": "markdown",
   "metadata": {},
   "source": [
    "### Sanity Checker\n",
    "\n",
    "The Sanity Checker is a TransmogrifAI estimator that will help identify problems in your dataset.  The easiest way to use it is to call the `sanityCheck` method of the target variable.  You need to provide, as the first argument, the feature vector.  There are many other arguments you can pass in, but on removing bad features as determined by the checks performed.  \n",
    "\n",
    "Some other options \n",
    "* Max correlation allowed between a feature and the target (default is 0.95)\n",
    "* Min correlation allowed between a feature and the target (default is 0.0)\n",
    "* Minimum variance allowed for a feature vector (default is 1e-5)\n",
    "* Set the type of correlation to use."
   ]
  },
  {
   "cell_type": "code",
   "execution_count": 20,
   "metadata": {},
   "outputs": [
    {
     "data": {
      "text/plain": [
       "Feature(name = age-cabin-embarked-fare-id-name-parch-pclass-sex-sibsp-survived-ticket_4-stagesApplied_OPVector_000000000010, uid = OPVector_000000000010, isResponse = false, originStage = SanityChecker_000000000010, parents = [RealNN_000000000002,OPVector_00000000000f], distributions = [])"
      ]
     },
     "execution_count": 20,
     "metadata": {},
     "output_type": "execute_result"
    }
   ],
   "source": [
    "val checkedFeatures = target.sanityCheck(featureVector, removeBadFeatures = true)"
   ]
  },
  {
   "cell_type": "code",
   "execution_count": 56,
   "metadata": {},
   "outputs": [
    {
     "name": "stdout",
     "output_type": "stream",
     "text": [
      "just an example of a few things to to set in the sanity checker\n",
      "\n",
      "categoricalLabel: If true, then label is treated as categorical (eg. Cramer's V will be calculated between it and categorical features). If this is not set, then use a max class fraction of 0.1 to estimate whether label iscategorical or not. (undefined)\n",
      "\n",
      "checkSample: Rate to downsample the data for statistical calculations (note: actual sampling will not be exact due to Spark's dataset sampling behavior) (default: 1.0, current: 1.0)\n",
      "\n",
      "correlationExclusion: Setting for what categories of feature vector columns to exclude from the correlation calculation (default: NoExclusion, current: NoExclusion)\n",
      "\n",
      "correlationType: Which coefficient to use for computing correlation (default: Pearson, current: Pearson)\n",
      "\n",
      "featureLabelCorrOnly: If true, then only calculate the correlations between the features and the label. Otherwise, calculate the entire correlation matrix, which includes all feature-feature correlations. (default: false, current: false)\n"
     ]
    }
   ],
   "source": [
    "println(\"just an example of a few things to to set in the sanity checker\\n\")\n",
    "println(checkedFeatures.originStage.explainParams.split(\"\\n\").take(5).mkString(\"\\n\\n\"))"
   ]
  },
  {
   "cell_type": "markdown",
   "metadata": {},
   "source": [
    "## Model"
   ]
  },
  {
   "cell_type": "code",
   "execution_count": 22,
   "metadata": {},
   "outputs": [
    {
     "data": {
      "text/plain": [
       "Feature(name = prediction, uid = Prediction_00000000001c, isResponse = true, originStage = ModelSelector_00000000001c, parents = [RealNN_000000000002,OPVector_000000000010], distributions = [])"
      ]
     },
     "execution_count": 22,
     "metadata": {},
     "output_type": "execute_result"
    }
   ],
   "source": [
    "val prediction = BinaryClassificationModelSelector.\n",
    "withCrossValidation(seed=142L)\n",
    ".setInput(target, checkedFeatures).setOutputFeatureName(\"prediction\").getOutput()"
   ]
  },
  {
   "cell_type": "code",
   "execution_count": 23,
   "metadata": {},
   "outputs": [
    {
     "data": {
      "text/plain": [
       "[id: double, survived: double ... 10 more fields]"
      ]
     },
     "execution_count": 23,
     "metadata": {},
     "output_type": "execute_result"
    }
   ],
   "source": [
    "val Array(train, test) = passengerData.randomSplit( Array(0.7, 0.3))"
   ]
  },
  {
   "cell_type": "code",
   "execution_count": 24,
   "metadata": {},
   "outputs": [
    {
     "data": {
      "text/plain": [
       "com.salesforce.op.OpWorkflow@7aca6d33"
      ]
     },
     "execution_count": 24,
     "metadata": {},
     "output_type": "execute_result"
    }
   ],
   "source": [
    "// Setting up a TransmogrifAI workflow\n",
    "val workflow = new OpWorkflow().setInputDataset(train).setResultFeatures(prediction)"
   ]
  },
  {
   "cell_type": "code",
   "execution_count": 25,
   "metadata": {},
   "outputs": [
    {
     "data": {
      "text/plain": [
       "com.salesforce.op.OpWorkflowModel@3f1fd3d4"
      ]
     },
     "execution_count": 25,
     "metadata": {},
     "output_type": "execute_result"
    }
   ],
   "source": [
    "val fittedWorkflow = workflow.train()"
   ]
  },
  {
   "cell_type": "code",
   "execution_count": 26,
   "metadata": {},
   "outputs": [
    {
     "name": "stdout",
     "output_type": "stream",
     "text": [
      "Model summary:\n",
      "Evaluated OpLogisticRegression, OpLinearSVC, OpGBTClassifier, OpRandomForestClassifier models using Cross Validation and area under precision-recall metric.\n",
      "Evaluated 8 OpLogisticRegression models with area under precision-recall metric between [0.7059060187219958, 0.8019345677832576].\n",
      "Evaluated 4 OpLinearSVC models with area under precision-recall metric between [0.6689174995130905, 0.6776168955058083].\n",
      "Evaluated 18 OpGBTClassifier models with area under precision-recall metric between [0.7919492354936848, 0.8413025093504036].\n",
      "Evaluated 18 OpRandomForestClassifier models with area under precision-recall metric between [0.6757512570359909, 0.7985987427196202].\n",
      "+--------------------------------------------------------+\n",
      "|            Selected Model - OpGBTClassifier            |\n",
      "+--------------------------------------------------------+\n",
      "| Model Param           | Value                          |\n",
      "+-----------------------+--------------------------------+\n",
      "| cacheNodeIds          | false                          |\n",
      "| checkpointInterval    | 10                             |\n",
      "| featureSubsetStrategy | all                            |\n",
      "| impurity              | gini                           |\n",
      "| lossType              | logistic                       |\n",
      "| maxBins               | 32                             |\n",
      "| maxDepth              | 3                              |\n",
      "| maxIter               | 20                             |\n",
      "| maxMemoryInMB         | 256                            |\n",
      "| minInfoGain           | 0.001                          |\n",
      "| minInstancesPerNode   | 10                             |\n",
      "| modelType             | OpGBTClassifier                |\n",
      "| name                  | OpGBTClassifier_000000000017_0 |\n",
      "| seed                  | 1918769265                     |\n",
      "| stepSize              | 0.1                            |\n",
      "| subsamplingRate       | 1.0                            |\n",
      "| uid                   | OpGBTClassifier_000000000017   |\n",
      "+-----------------------+--------------------------------+\n",
      "+-------------------------------------------------------------------------+\n",
      "|                        Model Evaluation Metrics                         |\n",
      "+-------------------------------------------------------------------------+\n",
      "| Metric Name                 | Training Set Value  | Hold Out Set Value  |\n",
      "+-----------------------------+---------------------+---------------------+\n",
      "| area under ROC              | 0.9208419618907312  | 0.8817567567567568  |\n",
      "| area under precision-recall | 0.9044346681929417  | 0.8534527235619271  |\n",
      "| brier score                 | 0.10374697147498509 | 0.12297339853874059 |\n",
      "| error                       | 0.13768115942028986 | 0.16923076923076924 |\n",
      "| f1                          | 0.8041237113402062  | 0.7843137254901961  |\n",
      "| false negative              | 55.0                | 8.0                 |\n",
      "| false positive              | 21.0                | 3.0                 |\n",
      "| precision                   | 0.8813559322033898  | 0.8695652173913043  |\n",
      "| recall                      | 0.7393364928909952  | 0.7142857142857143  |\n",
      "| true negative               | 320.0               | 34.0                |\n",
      "| true positive               | 156.0               | 20.0                |\n",
      "+-----------------------------+---------------------+---------------------+\n",
      "+---------------------------------------------------+\n",
      "|                Top Model Insights                 |\n",
      "+---------------------------------------------------+\n",
      "| Top Positive Correlations |     Correlation Value |\n",
      "+---------------------------+-----------------------+\n",
      "| sex(sex = Female)         |    0.5261725399216176 |\n",
      "| name                      |    0.3400333711775547 |\n",
      "| fare                      |   0.23574348694222122 |\n",
      "| embarked(embarked = C)    |    0.1665010876535617 |\n",
      "| ticket                    |   0.16248833304849403 |\n",
      "| cabin                     |   0.10861146664457157 |\n",
      "| parch                     |    0.0660840375776428 |\n",
      "| embarked(embarked = null) |   0.05415769379202583 |\n",
      "| embarked(embarked = Q)    |  0.040532349256942414 |\n",
      "| id                        |  0.019043246749544298 |\n",
      "| sibsp                     | -0.029112612062906707 |\n",
      "| age(age = null)           |  -0.06713321769138891 |\n",
      "| age                       |  -0.08235253243537258 |\n",
      "| embarked(embarked = S)    |   -0.1769320276578318 |\n",
      "| cabin(cabin = null)       |   -0.2900390085976312 |\n",
      "+---------------------------+-----------------------+\n",
      "+---------------------------------------------------+\n",
      "| Top Negative Correlations |     Correlation Value |\n",
      "+---------------------------+-----------------------+\n",
      "| sex(sex = Male)           |   -0.5261725399216173 |\n",
      "| name                      |   -0.5121967417889531 |\n",
      "| pclass                    |  -0.31345578060382556 |\n",
      "| ticket                    |  -0.09146343837146163 |\n",
      "| cabin                     | -0.047434867438347794 |\n",
      "+---------------------------+-----------------------+\n",
      "+--------------------------------------------------+\n",
      "| Top Contributions         |   Contribution Value |\n",
      "+---------------------------+----------------------+\n",
      "| fare                      |  0.24212349313081813 |\n",
      "| age                       |  0.16031835130492642 |\n",
      "| id                        |   0.1137919889853398 |\n",
      "| sex(sex = Male)           |  0.07912299556481585 |\n",
      "| embarked(embarked = S)    |    0.066172054316989 |\n",
      "| cabin(cabin = null)       |  0.05010225424989378 |\n",
      "| pclass                    |  0.04680902338742924 |\n",
      "| name                      |  0.04578076317268375 |\n",
      "| sibsp                     |  0.04266396261939593 |\n",
      "| embarked(embarked = C)    | 0.011277207404040694 |\n",
      "| embarked(embarked = Q)    |  0.00621371521898594 |\n",
      "| embarked(embarked = null) |                  0.0 |\n",
      "| sex(sex = Female)         |                  0.0 |\n",
      "| cabin                     |                  0.0 |\n",
      "| ticket                    |                  0.0 |\n",
      "+---------------------------+----------------------+\n",
      "+------------------------------------+\n",
      "| Top CramersV |            CramersV |\n",
      "+--------------+---------------------+\n",
      "| sex          |  0.5261725399216176 |\n",
      "| cabin        | 0.29003900859763115 |\n",
      "| embarked     |  0.1886170810292726 |\n",
      "| age          | 0.06713321769138898 |\n",
      "+--------------+---------------------+\n"
     ]
    }
   ],
   "source": [
    "println(\"Model summary:\\n\" + fittedWorkflow.summaryPretty())"
   ]
  },
  {
   "cell_type": "markdown",
   "metadata": {},
   "source": [
    "## Test Dataset Performance"
   ]
  },
  {
   "cell_type": "code",
   "execution_count": 57,
   "metadata": {},
   "outputs": [
    {
     "data": {
      "text/plain": [
       "OpBinaryClassificationEvaluator_000000000044"
      ]
     },
     "execution_count": 57,
     "metadata": {},
     "output_type": "execute_result"
    }
   ],
   "source": [
    "val evaluator = Evaluators.BinaryClassification()\n",
    "   .setLabelCol(target)\n",
    "   .setPredictionCol(prediction)"
   ]
  },
  {
   "cell_type": "code",
   "execution_count": 58,
   "metadata": {},
   "outputs": [
    {
     "data": {
      "text/plain": [
       "com.salesforce.op.OpWorkflowModel@3f1fd3d4"
      ]
     },
     "execution_count": 58,
     "metadata": {},
     "output_type": "execute_result"
    }
   ],
   "source": [
    "fittedWorkflow.setInputDataset(test)"
   ]
  },
  {
   "cell_type": "code",
   "execution_count": 59,
   "metadata": {},
   "outputs": [],
   "source": [
    "val (scoredTestData, metrics) = fittedWorkflow.scoreAndEvaluate(evaluator = evaluator)\n",
    "OutputCell.HIDDEN"
   ]
  },
  {
   "cell_type": "code",
   "execution_count": 60,
   "metadata": {},
   "outputs": [
    {
     "data": {
      "application/vnd.jupyter.widget-view+json": {
       "model_id": "9d5bb5b3-d561-403b-9bee-c022658067fe",
       "version_major": 2,
       "version_minor": 0
      },
      "method": "display_data"
     },
     "metadata": {},
     "output_type": "display_data"
    }
   ],
   "source": [
    "metrics.toMap"
   ]
  },
  {
   "cell_type": "markdown",
   "metadata": {},
   "source": [
    "## Refine a few features by hand"
   ]
  },
  {
   "cell_type": "markdown",
   "metadata": {},
   "source": [
    "\n",
    "#### have to create a new workflow\n",
    "\n"
   ]
  },
  {
   "cell_type": "code",
   "execution_count": null,
   "metadata": {},
   "outputs": [],
   "source": [
    "val passengersData2 = passengersData.select(\"survived\", \"name\", \"pClass\", \"sex\", \"age\", \"sibSp\", \"parCh\", \"fare\", \"embarked\")"
   ]
  },
  {
   "cell_type": "code",
   "execution_count": null,
   "metadata": {},
   "outputs": [],
   "source": [
    "val columns = passengerData.columns.filter( col => col != \"id\" & col != \"name\")"
   ]
  },
  {
   "cell_type": "code",
   "execution_count": null,
   "metadata": {},
   "outputs": [],
   "source": [
    "// Automated model selection\n",
    "val pred = BinaryClassificationModelSelector().setInput(survived, checkedFeatures).getOutput()\n",
    "//val pred = new OpGBTClassifier().setInput(survived, checkedFeatures).getOutput()"
   ]
  },
  {
   "cell_type": "markdown",
   "metadata": {},
   "source": [
    "SQL User Defined Functions (UDF)"
   ]
  },
  {
   "cell_type": "code",
   "execution_count": 38,
   "metadata": {},
   "outputs": [
    {
     "name": "stdout",
     "output_type": "stream",
     "text": [
      "+-------------+------+-------------------+\n",
      "|        title|sum(1)|                  p|\n",
      "+-------------+------+-------------------+\n",
      "|         Capt|     1|                0.0|\n",
      "|          Col|     2|                0.5|\n",
      "|          Don|     1|                0.0|\n",
      "|           Dr|     7|0.42857142857142855|\n",
      "|     Jonkheer|     1|                0.0|\n",
      "|         Lady|     1|                1.0|\n",
      "|        Major|     2|                0.5|\n",
      "|       Master|    40|              0.575|\n",
      "|         Miss|   182| 0.6978021978021978|\n",
      "|         Mlle|     2|                1.0|\n",
      "|          Mme|     1|                1.0|\n",
      "|           Mr|   517|0.15667311411992263|\n",
      "|          Mrs|   125|              0.792|\n",
      "|           Ms|     1|                1.0|\n",
      "|          Rev|     6|                0.0|\n",
      "|          Sir|     1|                1.0|\n",
      "| the Countess|     1|                1.0|\n",
      "+-------------+------+-------------------+\n",
      "\n"
     ]
    },
    {
     "data": {
      "text/plain": [
       "null"
      ]
     },
     "execution_count": 38,
     "metadata": {},
     "output_type": "execute_result"
    }
   ],
   "source": [
    "// Define a regular Scala function\n",
    "val title: String => String = _.split(\"\\\\.\").apply(0).split(\",\").apply(1)\n",
    "\n",
    "// Define a UDF that wraps the upper Scala function defined above\n",
    "// You could also define the function in place, i.e. inside udf\n",
    "// but separating Scala functions from Spark SQL's UDFs allows for easier testing\n",
    "import org.apache.spark.sql.functions.udf\n",
    "val titleUDF = udf(title)\n",
    "\n",
    "// Apply the UDF to change the source dataset\n",
    "passengerData.withColumn(\"title\", titleUDF(passengerData.col(\"name\"))).createOrReplaceTempView(\"title\")\n",
    "\n",
    "spark.sql(\"select title, sum(1), avg(survived) as p from title group by 1 order by 1\").show(100)"
   ]
  },
  {
   "cell_type": "code",
   "execution_count": null,
   "metadata": {},
   "outputs": [],
   "source": []
  },
  {
   "cell_type": "code",
   "execution_count": null,
   "metadata": {},
   "outputs": [],
   "source": []
  },
  {
   "cell_type": "code",
   "execution_count": null,
   "metadata": {},
   "outputs": [],
   "source": [
    "// Passenger data schema\n",
    "case class Passenger(\n",
    "  id: Int,\n",
    "  survived: Int,\n",
    "  pClass: Option[Int],\n",
    "  name: Option[String],\n",
    "  sex: Option[String],\n",
    "  age: Option[Double],\n",
    "  sibSp: Option[Int],\n",
    "  parCh: Option[Int],\n",
    "  ticket: Option[String],\n",
    "  fare: Option[Double],\n",
    "  cabin: Option[String],\n",
    "  embarked: Option[String]\n",
    ")"
   ]
  },
  {
   "cell_type": "code",
   "execution_count": null,
   "metadata": {},
   "outputs": [],
   "source": [
    "// import necessary packages\n",
    "import com.salesforce.op.features.FeatureBuilder\n",
    "import com.salesforce.op.features.types._\n",
    "import com.salesforce.op._\n",
    "\n",
    "// Define features using the TransmogrifAI types based on the data\n",
    "val survived = FeatureBuilder.RealNN[Passenger].extract(_.survived.toRealNN).asResponse\n",
    "\n",
    "val pClass = FeatureBuilder.PickList[Passenger].extract(_.pClass.map(_.toString).toPickList).asPredictor\n",
    "\n",
    "val name = FeatureBuilder.Text[Passenger].extract(_.name.toText).asPredictor\n",
    "\n",
    "val sex = FeatureBuilder.PickList[Passenger].extract(_.sex.map(_.toString).toPickList).asPredictor\n",
    "\n",
    "val age = FeatureBuilder.RealNN[Passenger].extract(_.age.toRealNN).asPredictor\n",
    "\n",
    "val sibSp = FeatureBuilder.Integral[Passenger].extract(_.sibSp.toIntegral).asPredictor\n",
    "\n",
    "val parCh = FeatureBuilder.Integral[Passenger].extract(_.parCh.toIntegral).asPredictor\n",
    "\n",
    "val ticket = FeatureBuilder.PickList[Passenger].extract(_.ticket.map(_.toString).toPickList).asPredictor\n",
    "\n",
    "val fare = FeatureBuilder.Real[Passenger].extract(_.fare.toReal).asPredictor\n",
    "\n",
    "val cabin = FeatureBuilder.PickList[Passenger].extract(_.cabin.map(_.toString).toPickList).asPredictor\n",
    "\n",
    "val embarked = FeatureBuilder.PickList[Passenger].extract(_.embarked.map(_.toString).toPickList).asPredictor"
   ]
  }
 ],
 "metadata": {
  "kernelspec": {
   "display_name": "Scala",
   "language": "scala",
   "name": "scala"
  },
  "language_info": {
   "codemirror_mode": "text/x-scala",
   "file_extension": ".scala",
   "mimetype": "",
   "name": "Scala",
   "nbconverter_exporter": "",
   "version": "2.11.12"
  },
  "toc": {
   "base_numbering": 1,
   "nav_menu": {},
   "number_sections": false,
   "sideBar": false,
   "skip_h1_title": false,
   "title_cell": "Table of Contents",
   "title_sidebar": "Contents",
   "toc_cell": false,
   "toc_position": {},
   "toc_section_display": false,
   "toc_window_display": false
  }
 },
 "nbformat": 4,
 "nbformat_minor": 2
}
