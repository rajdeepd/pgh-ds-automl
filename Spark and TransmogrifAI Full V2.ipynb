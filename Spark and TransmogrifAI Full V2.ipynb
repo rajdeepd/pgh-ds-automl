{
 "cells": [
  {
   "cell_type": "markdown",
   "metadata": {},
   "source": [
    "# Want to see my Transmogrif-AI-er"
   ]
  },
  {
   "cell_type": "markdown",
   "metadata": {},
   "source": [
    "![](transmogrify.png)"
   ]
  },
  {
   "cell_type": "markdown",
   "metadata": {},
   "source": [
    "# Summary"
   ]
  },
  {
   "cell_type": "markdown",
   "metadata": {},
   "source": [
    "# Check Scala Version"
   ]
  },
  {
   "cell_type": "code",
   "execution_count": 1,
   "metadata": {},
   "outputs": [
    {
     "data": {
      "text/plain": [
       "version 2.11.12"
      ]
     },
     "execution_count": 1,
     "metadata": {},
     "output_type": "execute_result"
    }
   ],
   "source": [
    "scala.util.Properties.versionString"
   ]
  },
  {
   "cell_type": "markdown",
   "metadata": {},
   "source": [
    "# Get TransmogrifAI"
   ]
  },
  {
   "cell_type": "code",
   "execution_count": 2,
   "metadata": {},
   "outputs": [
    {
     "data": {
      "application/vnd.jupyter.widget-view+json": {
       "model_id": "",
       "version_major": 2,
       "version_minor": 0
      },
      "method": "display_data"
     },
     "metadata": {},
     "output_type": "display_data"
    },
    {
     "data": {
      "application/vnd.jupyter.widget-view+json": {
       "model_id": "99999c61-a4ba-436c-9393-19f807f504b7",
       "version_major": 2,
       "version_minor": 0
      },
      "method": "display_data"
     },
     "metadata": {},
     "output_type": "display_data"
    }
   ],
   "source": [
    "%classpath add mvn com.salesforce.transmogrifai transmogrifai-core_2.11 0.5.0"
   ]
  },
  {
   "cell_type": "markdown",
   "metadata": {},
   "source": [
    "# Get Spark"
   ]
  },
  {
   "cell_type": "code",
   "execution_count": 3,
   "metadata": {},
   "outputs": [
    {
     "data": {
      "application/vnd.jupyter.widget-view+json": {
       "model_id": "",
       "version_major": 2,
       "version_minor": 0
      },
      "method": "display_data"
     },
     "metadata": {},
     "output_type": "display_data"
    },
    {
     "data": {
      "application/vnd.jupyter.widget-view+json": {
       "model_id": "3aecfb2a-a399-4943-8fdc-8c225d7d0cd1",
       "version_major": 2,
       "version_minor": 0
      },
      "method": "display_data"
     },
     "metadata": {},
     "output_type": "display_data"
    }
   ],
   "source": [
    "%classpath add mvn org.apache.spark spark-mllib_2.11 2.3.0"
   ]
  },
  {
   "cell_type": "markdown",
   "metadata": {},
   "source": [
    "# Get Started"
   ]
  },
  {
   "cell_type": "code",
   "execution_count": 6,
   "metadata": {},
   "outputs": [
    {
     "data": {
      "text/plain": [
       "import org.apache.spark.SparkConf\n",
       "import org.apache.spark.sql.SparkSession\n",
       "import org.apache.spark.SparkContext\n",
       "import com.salesforce.op._\n",
       "import com.salesforce.op.features._\n",
       "import com.salesforce.op.features.types._\n",
       "import com.salesforce.op.stages.impl.classification._\n",
       "import com.salesforce.op.evaluators.Evaluators\n"
      ]
     },
     "execution_count": 6,
     "metadata": {},
     "output_type": "execute_result"
    }
   ],
   "source": [
    "import org.apache.spark.SparkConf\n",
    "import org.apache.spark.sql.SparkSession\n",
    "import org.apache.spark.SparkContext\n",
    "import com.salesforce.op._\n",
    "import com.salesforce.op.features._\n",
    "import com.salesforce.op.features.types._\n",
    "import com.salesforce.op.stages.impl.classification._\n",
    "import com.salesforce.op.evaluators.Evaluators"
   ]
  },
  {
   "cell_type": "code",
   "execution_count": 7,
   "metadata": {},
   "outputs": [
    {
     "data": {
      "text/plain": [
       "org.apache.spark.sql.SparkSession$implicits$@48ee338"
      ]
     },
     "execution_count": 7,
     "metadata": {},
     "output_type": "execute_result"
    }
   ],
   "source": [
    "val conf = new SparkConf().setMaster(\"local[*]\").setAppName(\"automl-app\") // Spark configuration\n",
    "val sc = new SparkContext(conf)  // initialize spark context\n",
    "val sqlContext = new org.apache.spark.sql.SQLContext(sc)  // initialize sql context\n",
    "implicit val spark = SparkSession.builder.config(conf).getOrCreate() // start spark session \n",
    "import spark.implicits._"
   ]
  },
  {
   "cell_type": "markdown",
   "metadata": {},
   "source": [
    "# Get Data"
   ]
  },
  {
   "cell_type": "code",
   "execution_count": 9,
   "metadata": {},
   "outputs": [
    {
     "name": "stdout",
     "output_type": "stream",
     "text": [
      "root\n",
      " |-- PassengerId: integer (nullable = true)\n",
      " |-- Survived: integer (nullable = true)\n",
      " |-- Pclass: integer (nullable = true)\n",
      " |-- Name: string (nullable = true)\n",
      " |-- Sex: string (nullable = true)\n",
      " |-- Age: double (nullable = true)\n",
      " |-- SibSp: integer (nullable = true)\n",
      " |-- Parch: integer (nullable = true)\n",
      " |-- Ticket: string (nullable = true)\n",
      " |-- Fare: double (nullable = true)\n",
      " |-- Cabin: string (nullable = true)\n",
      " |-- Embarked: string (nullable = true)\n",
      "\n"
     ]
    },
    {
     "data": {
      "text/plain": [
       "null"
      ]
     },
     "execution_count": 9,
     "metadata": {},
     "output_type": "execute_result"
    }
   ],
   "source": [
    "val rawData = sqlContext.read.format(\"csv\").option(\"header\", \"true\").option(\"inferSchema\", \"true\").load(\"train.csv\")\n",
    "rawData.printSchema"
   ]
  },
  {
   "cell_type": "code",
   "execution_count": 10,
   "metadata": {},
   "outputs": [
    {
     "name": "stdout",
     "output_type": "stream",
     "text": [
      "PassengerId,Survived,Pclass,Name,Sex,Age,SibSp,Parch,Ticket,Fare,Cabin,Embarked\n",
      "[1,0,3,Braund, Mr. Owen Harris,male,22.0,1,0,A/5 21171,7.25,null,S]\n",
      "[2,1,1,Cumings, Mrs. John Bradley (Florence Briggs Thayer),female,38.0,1,0,PC 17599,71.2833,C85,C]\n",
      "[3,1,3,Heikkinen, Miss. Laina,female,26.0,0,0,STON/O2. 3101282,7.925,null,S]\n",
      "[4,1,1,Futrelle, Mrs. Jacques Heath (Lily May Peel),female,35.0,1,0,113803,53.1,C123,S]\n",
      "[5,0,3,Allen, Mr. William Henry,male,35.0,0,0,373450,8.05,null,S]\n"
     ]
    }
   ],
   "source": [
    "println(rawData.columns.mkString(\",\"))\n",
    "rawData.take(5).foreach(println)"
   ]
  },
  {
   "cell_type": "code",
   "execution_count": 16,
   "metadata": {},
   "outputs": [
    {
     "data": {
      "text/plain": [
       "[id: double, survived: double ... 10 more fields]"
      ]
     },
     "execution_count": 16,
     "metadata": {},
     "output_type": "execute_result"
    }
   ],
   "source": [
    "// cast all non doulbe numeric types to double\n",
    "rawData.createOrReplaceTempView(\"raw\")\n",
    "val passengerData = spark.sql(\"\"\"\n",
    "    select \n",
    "      cast(passengerId as double) as id, \n",
    "      cast(survived as double) as survived, \n",
    "      cast(pclass as double) as pclass,+\n",
    "      name, sex, age, \n",
    "      cast(sibsp as double) as sibsp, \n",
    "      cast(parch as double) as parch, \n",
    "      ticket, fare, cabin, embarked \n",
    "      from raw\n",
    "\"\"\")"
   ]
  },
  {
   "cell_type": "code",
   "execution_count": 17,
   "metadata": {},
   "outputs": [
    {
     "data": {
      "text/plain": [
       "[id: double, survived: double ... 10 more fields]"
      ]
     },
     "execution_count": 17,
     "metadata": {},
     "output_type": "execute_result"
    }
   ],
   "source": [
    "val Array(train, test) = passengerData.randomSplit( Array(0.7, 0.3))"
   ]
  },
  {
   "cell_type": "markdown",
   "metadata": {},
   "source": [
    "# Declare Target and Features"
   ]
  },
  {
   "cell_type": "code",
   "execution_count": 12,
   "metadata": {},
   "outputs": [],
   "source": [
    "val (target, features) = FeatureBuilder.fromDataFrame[RealNN](passengerData, response = \"survived\")\n",
    "OutputCell.HIDDEN"
   ]
  },
  {
   "cell_type": "markdown",
   "metadata": {},
   "source": [
    "# Transmogrify (Feature Engineering)"
   ]
  },
  {
   "cell_type": "code",
   "execution_count": 13,
   "metadata": {},
   "outputs": [
    {
     "data": {
      "text/plain": [
       "Feature(name = age-cabin-embarked-fare-id-name-parch-pclass-sex-sibsp-ticket_3-stagesApplied_OPVector_00000000000f, uid = OPVector_00000000000f, isResponse = false, originStage = VectorsCombiner_00000000000f, parents = [OPVector_00000000000d,OPVector_00000000000e], distributions = [])"
      ]
     },
     "execution_count": 13,
     "metadata": {},
     "output_type": "execute_result"
    }
   ],
   "source": [
    "val featureVector = features.transmogrify()"
   ]
  },
  {
   "cell_type": "markdown",
   "metadata": {},
   "source": [
    "# Sanity Check (Feature Refinement)"
   ]
  },
  {
   "cell_type": "code",
   "execution_count": 14,
   "metadata": {},
   "outputs": [
    {
     "data": {
      "text/plain": [
       "Feature(name = age-cabin-embarked-fare-id-name-parch-pclass-sex-sibsp-survived-ticket_4-stagesApplied_OPVector_000000000010, uid = OPVector_000000000010, isResponse = false, originStage = SanityChecker_000000000010, parents = [RealNN_000000000002,OPVector_00000000000f], distributions = [])"
      ]
     },
     "execution_count": 14,
     "metadata": {},
     "output_type": "execute_result"
    }
   ],
   "source": [
    "val checkedFeatures = target.sanityCheck(featureVector, removeBadFeatures = true)"
   ]
  },
  {
   "cell_type": "markdown",
   "metadata": {},
   "source": [
    "# Model Selection"
   ]
  },
  {
   "cell_type": "code",
   "execution_count": 15,
   "metadata": {},
   "outputs": [
    {
     "data": {
      "text/plain": [
       "Feature(name = prediction, uid = Prediction_00000000001c, isResponse = true, originStage = ModelSelector_00000000001c, parents = [RealNN_000000000002,OPVector_000000000010], distributions = [])"
      ]
     },
     "execution_count": 15,
     "metadata": {},
     "output_type": "execute_result"
    }
   ],
   "source": [
    "val prediction = BinaryClassificationModelSelector.\n",
    "withCrossValidation(seed=142L)\n",
    ".setInput(target, checkedFeatures).setOutputFeatureName(\"prediction\").getOutput()"
   ]
  },
  {
   "cell_type": "markdown",
   "metadata": {},
   "source": [
    "# Setting up a TransmogrifAI Workflow"
   ]
  },
  {
   "cell_type": "code",
   "execution_count": 18,
   "metadata": {},
   "outputs": [
    {
     "data": {
      "text/plain": [
       "com.salesforce.op.OpWorkflow@2b40166f"
      ]
     },
     "execution_count": 18,
     "metadata": {},
     "output_type": "execute_result"
    }
   ],
   "source": [
    "val workflow = new OpWorkflow().setInputDataset(train).setResultFeatures(prediction)"
   ]
  },
  {
   "cell_type": "markdown",
   "metadata": {},
   "source": [
    "# Train a Workflow"
   ]
  },
  {
   "cell_type": "code",
   "execution_count": 19,
   "metadata": {},
   "outputs": [
    {
     "data": {
      "text/plain": [
       "com.salesforce.op.OpWorkflowModel@68be22d9"
      ]
     },
     "execution_count": 19,
     "metadata": {},
     "output_type": "execute_result"
    }
   ],
   "source": [
    "val fittedWorkflow = workflow.train()"
   ]
  },
  {
   "cell_type": "code",
   "execution_count": 20,
   "metadata": {},
   "outputs": [
    {
     "name": "stdout",
     "output_type": "stream",
     "text": [
      "Model summary:\n",
      "Evaluated OpLogisticRegression, OpGBTClassifier, OpRandomForestClassifier, OpLinearSVC models using Cross Validation and area under precision-recall metric.\n",
      "Evaluated 8 OpLogisticRegression models with area under precision-recall metric between [0.7086101706244603, 0.7942363464210933].\n",
      "Evaluated 18 OpGBTClassifier models with area under precision-recall metric between [0.6903514842064713, 0.7879093921853755].\n",
      "Evaluated 18 OpRandomForestClassifier models with area under precision-recall metric between [0.5381118184952709, 0.7743723627023575].\n",
      "Evaluated 4 OpLinearSVC models with area under precision-recall metric between [0.6980978665209828, 0.7243148146829335].\n",
      "+--------------------------------------------------------+\n",
      "|         Selected Model - OpLogisticRegression          |\n",
      "+--------------------------------------------------------+\n",
      "| Model Param      | Value                               |\n",
      "+------------------+-------------------------------------+\n",
      "| aggregationDepth | 2                                   |\n",
      "| elasticNetParam  | 0.5                                 |\n",
      "| family           | auto                                |\n",
      "| fitIntercept     | true                                |\n",
      "| maxIter          | 50                                  |\n",
      "| modelType        | OpLogisticRegression                |\n",
      "| name             | OpLogisticRegression_000000000015_6 |\n",
      "| regParam         | 0.1                                 |\n",
      "| standardization  | true                                |\n",
      "| tol              | 1.0E-6                              |\n",
      "| uid              | OpLogisticRegression_000000000015   |\n",
      "+------------------+-------------------------------------+\n",
      "+-------------------------------------------------------------------------+\n",
      "|                        Model Evaluation Metrics                         |\n",
      "+-------------------------------------------------------------------------+\n",
      "| Metric Name                 | Training Set Value  | Hold Out Set Value  |\n",
      "+-----------------------------+---------------------+---------------------+\n",
      "| area under ROC              | 0.8427749783681987  | 0.9539930555555556  |\n",
      "| area under precision-recall | 0.8110246311585412  | 0.9286890970148026  |\n",
      "| brier score                 | 0.15870357600798524 | 0.12376568061388166 |\n",
      "| error                       | 0.22395833333333334 | 0.18                |\n",
      "| f1                          | 0.7034482758620689  | 0.7567567567567567  |\n",
      "| false negative              | 69.0                | 4.0                 |\n",
      "| false positive              | 60.0                | 5.0                 |\n",
      "| precision                   | 0.7183098591549296  | 0.7368421052631579  |\n",
      "| recall                      | 0.6891891891891891  | 0.7777777777777778  |\n",
      "| true negative               | 294.0               | 27.0                |\n",
      "| true positive               | 153.0               | 14.0                |\n",
      "+-----------------------------+---------------------+---------------------+\n",
      "+---------------------------------------------------+\n",
      "|                Top Model Insights                 |\n",
      "+---------------------------------------------------+\n",
      "| Top Positive Correlations |     Correlation Value |\n",
      "+---------------------------+-----------------------+\n",
      "| sex(sex = Female)         |    0.5199116915537436 |\n",
      "| name                      |    0.3334930819102226 |\n",
      "| fare                      |    0.2513846507586635 |\n",
      "| embarked(embarked = C)    |   0.20449024953587694 |\n",
      "| ticket                    |     0.141535578245279 |\n",
      "| cabin                     |    0.0913710172807799 |\n",
      "| parch                     |   0.08046780459934944 |\n",
      "| embarked(embarked = Q)    |  0.004316406444425527 |\n",
      "| id                        | -0.025255412596521497 |\n",
      "| sibsp                     | -0.032259591262166334 |\n",
      "| age                       |  -0.06128478617209901 |\n",
      "| age(age = null)           |   -0.0843755236964139 |\n",
      "| embarked(embarked = S)    |  -0.18128514074216723 |\n",
      "| cabin(cabin = null)       |  -0.27813948867412125 |\n",
      "| pclass                    |  -0.30164771766142295 |\n",
      "+---------------------------+-----------------------+\n",
      "+--------------------------------------------------+\n",
      "| Top Negative Correlations |    Correlation Value |\n",
      "+---------------------------+----------------------+\n",
      "| sex(sex = Male)           |  -0.5199116915537437 |\n",
      "| name                      |  -0.5065971443571817 |\n",
      "| ticket                    | -0.09053618724448269 |\n",
      "| cabin                     | -0.04674486478225696 |\n",
      "+---------------------------+----------------------+\n",
      "+-----------------------------------------------+\n",
      "| Top Contributions      |   Contribution Value |\n",
      "+------------------------+----------------------+\n",
      "| name                   |   0.6757066873593037 |\n",
      "| sex(sex = Female)      |   0.5380035393671904 |\n",
      "| sex(sex = Male)        |   0.4884681059876464 |\n",
      "| ticket                 |  0.39355937563589766 |\n",
      "| pclass                 |   0.2863732997992409 |\n",
      "| cabin(cabin = null)    |  0.24929221137780383 |\n",
      "| embarked(embarked = C) |  0.18365069966752054 |\n",
      "| embarked(embarked = S) | 0.012674848213430347 |\n",
      "| embarked(embarked = Q) |                  0.0 |\n",
      "| sibsp                  |                  0.0 |\n",
      "| id                     |                  0.0 |\n",
      "| cabin                  |                  0.0 |\n",
      "| age(age = null)        |                  0.0 |\n",
      "| age                    |                  0.0 |\n",
      "| parch                  |                  0.0 |\n",
      "+------------------------+----------------------+\n",
      "+------------------------------------+\n",
      "| Top CramersV |            CramersV |\n",
      "+--------------+---------------------+\n",
      "| sex          |  0.5199116915537436 |\n",
      "| cabin        |  0.2781394886741212 |\n",
      "| embarked     | 0.20752014717049158 |\n",
      "| age          | 0.08437552369641388 |\n",
      "+--------------+---------------------+\n"
     ]
    }
   ],
   "source": [
    "println(\"Model summary:\\n\" + fittedWorkflow.summaryPretty())"
   ]
  },
  {
   "cell_type": "markdown",
   "metadata": {},
   "source": [
    "# Evaluate on Test Data"
   ]
  },
  {
   "cell_type": "code",
   "execution_count": 37,
   "metadata": {},
   "outputs": [
    {
     "data": {
      "text/plain": [
       "OpBinaryClassificationEvaluator_000000000046"
      ]
     },
     "execution_count": 37,
     "metadata": {},
     "output_type": "execute_result"
    }
   ],
   "source": [
    "val evaluator = Evaluators.BinaryClassification()\n",
    "   .setLabelCol(target)\n",
    "   .setPredictionCol(prediction)"
   ]
  },
  {
   "cell_type": "code",
   "execution_count": 38,
   "metadata": {},
   "outputs": [
    {
     "data": {
      "text/plain": [
       "com.salesforce.op.OpWorkflowModel@68be22d9"
      ]
     },
     "execution_count": 38,
     "metadata": {},
     "output_type": "execute_result"
    }
   ],
   "source": [
    "fittedWorkflow.setInputDataset(test)"
   ]
  },
  {
   "cell_type": "code",
   "execution_count": 39,
   "metadata": {},
   "outputs": [],
   "source": [
    "val (scoredTestData, metrics) = fittedWorkflow.scoreAndEvaluate(evaluator = evaluator)\n",
    "OutputCell.HIDDEN"
   ]
  },
  {
   "cell_type": "code",
   "execution_count": 40,
   "metadata": {},
   "outputs": [
    {
     "data": {
      "application/vnd.jupyter.widget-view+json": {
       "model_id": "d9101f9d-af65-40cf-b867-f1498fd3931b",
       "version_major": 2,
       "version_minor": 0
      },
      "method": "display_data"
     },
     "metadata": {},
     "output_type": "display_data"
    }
   ],
   "source": [
    "metrics.toMap"
   ]
  },
  {
   "cell_type": "code",
   "execution_count": 41,
   "metadata": {},
   "outputs": [
    {
     "data": {
      "text/plain": [
       "0.8075471698113208"
      ]
     },
     "execution_count": 41,
     "metadata": {},
     "output_type": "execute_result"
    }
   ],
   "source": [
    "(68 + 146)/test.count.toDouble"
   ]
  },
  {
   "cell_type": "markdown",
   "metadata": {},
   "source": [
    "# Kaggle Test Data"
   ]
  },
  {
   "cell_type": "code",
   "execution_count": 42,
   "metadata": {},
   "outputs": [
    {
     "data": {
      "text/plain": [
       "null"
      ]
     },
     "execution_count": 42,
     "metadata": {},
     "output_type": "execute_result"
    }
   ],
   "source": [
    "// import data\n",
    "\n",
    "val rawTestData = sqlContext.read.format(\"csv\").option(\"header\", \"true\").option(\"inferSchema\", \"true\").load(\"test.csv\")\n",
    "rawTestData.createOrReplaceTempView(\"rawTest\")\n",
    "val passengerTestData = spark.sql(\"\"\"\n",
    "    select \n",
    "      cast(passengerId as double) as id, \n",
    "      cast(1 as double) as survived, \n",
    "      cast(pclass as double) as pclass,\n",
    "      name, sex, age, \n",
    "      cast(sibsp as double) as sibsp, \n",
    "      cast(parch as double) as parch, \n",
    "      ticket, fare, cabin, embarked \n",
    "      from rawTest\n",
    "\"\"\")\n",
    "\n",
    "fittedWorkflow.setInputDataset(passengerTestData)\n",
    "\n",
    "val output = fittedWorkflow.computeDataUpTo(prediction).select(\"id\", \"prediction\")\n",
    "\n",
    "import java.io.{File, PrintWriter}\n",
    "\n",
    "val local = output.rdd.map{\n",
    "    row => (row.get(0), row.getAs[Map[String,Double]](1))\n",
    "}.collect.map{case(x,y) => (x, y.get(\"probability_1\").get)}.map{ \n",
    " case(x,y) => (x.asInstanceOf[Double].toInt, if(y > 0.5) 1 else 0)\n",
    "}\n",
    "\n",
    "val myFile = new File(\"myprediction.csv\")\n",
    "val pw = new PrintWriter(myFile)\n",
    "pw.write(\"PassengerId,Survived\\n\")\n",
    "for(i <- local) { \n",
    "    val (t1, t2) = i\n",
    "    pw.write(s\"$t1,$t2\\n\")\n",
    "}\n",
    "pw.close"
   ]
  },
  {
   "cell_type": "markdown",
   "metadata": {},
   "source": []
  }
 ],
 "metadata": {
  "kernelspec": {
   "display_name": "Scala",
   "language": "scala",
   "name": "scala"
  },
  "language_info": {
   "codemirror_mode": "text/x-scala",
   "file_extension": ".scala",
   "mimetype": "",
   "name": "Scala",
   "nbconverter_exporter": "",
   "version": "2.11.12"
  },
  "toc": {
   "base_numbering": 1,
   "nav_menu": {},
   "number_sections": false,
   "sideBar": false,
   "skip_h1_title": false,
   "title_cell": "Table of Contents",
   "title_sidebar": "Contents",
   "toc_cell": false,
   "toc_position": {},
   "toc_section_display": false,
   "toc_window_display": false
  }
 },
 "nbformat": 4,
 "nbformat_minor": 2
}
