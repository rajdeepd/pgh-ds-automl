{
 "cells": [
  {
   "cell_type": "markdown",
   "metadata": {},
   "source": [
    "<a id=\"toc\"></a>\n",
    "## Table of Contents\n",
    "\n",
    "[Variables](#variables)\n",
    "\n",
    "[Strings](#strings)\n",
    "\n",
    "[Lists](#lists)\n",
    "\n",
    "[Maps](#maps)\n",
    "\n",
    "[Functions](#funcs)\n"
   ]
  },
  {
   "cell_type": "markdown",
   "metadata": {},
   "source": [
    "## Overview\n",
    "\n",
    "\n"
   ]
  },
  {
   "cell_type": "markdown",
   "metadata": {},
   "source": [
    "<a id=\"variables\"></a>\n",
    "## Variables\n",
    "\n",
    "[Table of Contents](#toc)\n",
    "\n",
    "Variables in Scala come in two flavors: immutable and mutable.  This is determined by what prefix is used when creating the variable.  Immutable requires the use of `val` while mutable requires `var`.  "
   ]
  },
  {
   "cell_type": "code",
   "execution_count": 3,
   "metadata": {},
   "outputs": [
    {
     "data": {
      "text/plain": [
       "0"
      ]
     },
     "execution_count": 3,
     "metadata": {},
     "output_type": "execute_result"
    }
   ],
   "source": [
    "var x1 = 0\n",
    "val x2 = 0"
   ]
  },
  {
   "cell_type": "code",
   "execution_count": 4,
   "metadata": {},
   "outputs": [
    {
     "name": "stdout",
     "output_type": "stream",
     "text": [
      "1\n"
     ]
    }
   ],
   "source": [
    "x1 += 1\n",
    "println(x1)"
   ]
  },
  {
   "cell_type": "code",
   "execution_count": 11,
   "metadata": {},
   "outputs": [
    {
     "ename": "<console>",
     "evalue": "91",
     "output_type": "error",
     "traceback": [
      "\u001b[1;31m<console>:91: error: reassignment to val\u001b[0;0m",
      "\u001b[1;31m       x2 = 1\u001b[0;0m",
      "\u001b[1;31m          ^\u001b[0;0m"
     ]
    }
   ],
   "source": [
    "x2 = 1"
   ]
  },
  {
   "cell_type": "markdown",
   "metadata": {},
   "source": [
    "Be aware, `x1` is a mutable, and it is of type `Int`.  You can only \"update\" `x1` with other data of type `Int`."
   ]
  },
  {
   "cell_type": "code",
   "execution_count": 12,
   "metadata": {},
   "outputs": [
    {
     "ename": "<console>",
     "evalue": "91",
     "output_type": "error",
     "traceback": [
      "\u001b[1;31m<console>:91: error: type mismatch;\u001b[0;0m",
      "\u001b[1;31m found   : String(\"1\")\u001b[0;0m",
      "\u001b[1;31m required: Int\u001b[0;0m",
      "\u001b[1;31m       x1 = \"1\"\u001b[0;0m",
      "\u001b[1;31m            ^\u001b[0;0m"
     ]
    }
   ],
   "source": [
    "x1 = \"1\""
   ]
  },
  {
   "cell_type": "code",
   "execution_count": null,
   "metadata": {},
   "outputs": [],
   "source": []
  },
  {
   "cell_type": "markdown",
   "metadata": {},
   "source": [
    "In scala, you should typically favor immutable variables."
   ]
  },
  {
   "cell_type": "markdown",
   "metadata": {},
   "source": [
    "## Strings\n",
    "\n",
    "[Table of Contents](#toc)\n",
    "\n",
    "As in python strings are immutable.  You can perform many of the same operations on strings in Scala as you can in Python.  Reverse indexing does not work out of the box in Scala"
   ]
  },
  {
   "cell_type": "code",
   "execution_count": 1,
   "metadata": {},
   "outputs": [
    {
     "data": {
      "text/plain": [
       "keith"
      ]
     },
     "execution_count": 1,
     "metadata": {},
     "output_type": "execute_result"
    }
   ],
   "source": [
    "val s = \"keith\""
   ]
  },
  {
   "cell_type": "code",
   "execution_count": 2,
   "metadata": {},
   "outputs": [
    {
     "name": "stdout",
     "output_type": "stream",
     "text": [
      "KEITH\n",
      "Keith\n",
      "5\n",
      "1\n"
     ]
    }
   ],
   "source": [
    "println(s.toUpperCase)\n",
    "println(s.capitalize)\n",
    "println(s.length)\n",
    "println(s.indexOf(\"e\"))"
   ]
  },
  {
   "cell_type": "code",
   "execution_count": 3,
   "metadata": {},
   "outputs": [
    {
     "name": "stdout",
     "output_type": "stream",
     "text": [
      "the word keith has length 5\n"
     ]
    }
   ],
   "source": [
    "println(s\"the word $s has length ${s.length}\")"
   ]
  },
  {
   "cell_type": "markdown",
   "metadata": {},
   "source": [
    "<a id=\"lists\"></a>\n",
    "## Lists\n",
    "\n",
    "[Table of Contents](#toc)\n",
    "\n",
    "Some differences - elements of list are not mutable.  There is not reverse indexing as there is in python.  \n",
    "\n",
    "If you need something that allows for mutable elements try an `Array`.  Remember, this is fixed lenght (when you construct it).  If you need something that allows for variable length and mutable elements use an `scala.collections.mutable.ArrayBuffer`"
   ]
  },
  {
   "cell_type": "code",
   "execution_count": 35,
   "metadata": {},
   "outputs": [
    {
     "data": {
      "text/plain": [
       "[[red, green, blue]]"
      ]
     },
     "execution_count": 35,
     "metadata": {},
     "output_type": "execute_result"
    }
   ],
   "source": [
    "val ls = List(\"red\", \"green\", \"blue\")"
   ]
  },
  {
   "cell_type": "code",
   "execution_count": 36,
   "metadata": {},
   "outputs": [
    {
     "name": "stdout",
     "output_type": "stream",
     "text": [
      "red\n"
     ]
    }
   ],
   "source": [
    "// retrieve the 1st element of the list\n",
    "println(ls(0))"
   ]
  },
  {
   "cell_type": "code",
   "execution_count": 37,
   "metadata": {},
   "outputs": [
    {
     "name": "stdout",
     "output_type": "stream",
     "text": [
      "red\n",
      "green\n",
      "blue\n"
     ]
    }
   ],
   "source": [
    "// iterate through list\n",
    "for(color <- ls) {\n",
    "    println(color)\n",
    "}"
   ]
  },
  {
   "cell_type": "code",
   "execution_count": 38,
   "metadata": {},
   "outputs": [
    {
     "name": "stdout",
     "output_type": "stream",
     "text": [
      "red\n",
      "green\n",
      "blue\n"
     ]
    }
   ],
   "source": [
    "// or \n",
    "ls.foreach(println)"
   ]
  },
  {
   "cell_type": "code",
   "execution_count": 39,
   "metadata": {},
   "outputs": [
    {
     "name": "stdout",
     "output_type": "stream",
     "text": [
      "der\n",
      "neerg\n",
      "eulb\n"
     ]
    },
    {
     "data": {
      "text/plain": [
       "null"
      ]
     },
     "execution_count": 39,
     "metadata": {},
     "output_type": "execute_result"
    }
   ],
   "source": [
    "val sl = ls.map{ color => color.reverse } \n",
    "sl.foreach(println)"
   ]
  },
  {
   "cell_type": "code",
   "execution_count": 40,
   "metadata": {},
   "outputs": [
    {
     "name": "stdout",
     "output_type": "stream",
     "text": [
      "green\n",
      "blue\n",
      "red\n"
     ]
    }
   ],
   "source": [
    "ls.sortWith{ (c1, c2) => c1.length > c2.length }.foreach(println)"
   ]
  },
  {
   "cell_type": "code",
   "execution_count": 41,
   "metadata": {},
   "outputs": [
    {
     "data": {
      "text/plain": [
       ">red,green,blue<"
      ]
     },
     "execution_count": 41,
     "metadata": {},
     "output_type": "execute_result"
    }
   ],
   "source": [
    "ls.mkString(\">\",\",\",\"<\")  // same as ','.join(ls) in python"
   ]
  },
  {
   "cell_type": "markdown",
   "metadata": {},
   "source": [
    "Other useful methods"
   ]
  },
  {
   "cell_type": "code",
   "execution_count": 42,
   "metadata": {},
   "outputs": [
    {
     "name": "stdout",
     "output_type": "stream",
     "text": [
      "sum of all attributes of List(1, 2, 3, 4) is 10\n",
      "product of all attributes of List(1, 2, 3, 4) is 24\n"
     ]
    },
    {
     "data": {
      "text/plain": [
       "null"
      ]
     },
     "execution_count": 42,
     "metadata": {},
     "output_type": "execute_result"
    }
   ],
   "source": [
    "// lists of any sub type of AnyVal\n",
    "val ls = List(1,2,3,4)\n",
    "println(s\"sum of all attributes of $ls is ${ls.sum}\")\n",
    "println(s\"product of all attributes of $ls is ${ls.foldLeft(1){ (e1,e2) => e1*e2 }}\")"
   ]
  },
  {
   "cell_type": "code",
   "execution_count": 43,
   "metadata": {},
   "outputs": [
    {
     "name": "stdout",
     "output_type": "stream",
     "text": [
      "head of list is 1\n",
      "tail of list is List(2, 3, 4)\n"
     ]
    }
   ],
   "source": [
    "println(s\"head of list is ${ls.head}\")\n",
    "println(s\"tail of list is ${ls.tail}\")"
   ]
  },
  {
   "cell_type": "code",
   "execution_count": 70,
   "metadata": {},
   "outputs": [
    {
     "name": "stdout",
     "output_type": "stream",
     "text": [
      "ArrayBuffer(0)\n",
      "ArrayBuffer(0, 1)\n",
      "ArrayBuffer(0, 1, 2)\n",
      "ArrayBuffer(0, 1, 2, 3)\n",
      "ArrayBuffer(0, 1, 2, 3, 4)\n"
     ]
    },
    {
     "data": {
      "text/plain": [
       "null"
      ]
     },
     "execution_count": 70,
     "metadata": {},
     "output_type": "execute_result"
    }
   ],
   "source": [
    "import scala.collection.mutable.ArrayBuffer\n",
    "val arr = ArrayBuffer[Int]()\n",
    "for(i <- 0 until 5) println( arr += i )"
   ]
  },
  {
   "cell_type": "code",
   "execution_count": 72,
   "metadata": {},
   "outputs": [
    {
     "data": {
      "text/plain": [
       "[[10, 1, 2, 3, 4]]"
      ]
     },
     "execution_count": 72,
     "metadata": {},
     "output_type": "execute_result"
    }
   ],
   "source": [
    "arr(0) = 10\n",
    "arr"
   ]
  },
  {
   "cell_type": "markdown",
   "metadata": {},
   "source": [
    "<a id=\"maps\"></a>\n",
    "## Maps \n",
    "\n",
    "[Table of Contents](#toc)\n",
    "\n",
    "Same thing as Python Dictionary, with one (big?) exception.  All keys have to have same type, and all values have to have the same type. By default your Map is immutable, meaning you can't add key value pairs.  If you want to be able to add to the map, use `scala.collection.mutable.Map`"
   ]
  },
  {
   "cell_type": "code",
   "execution_count": 79,
   "metadata": {},
   "outputs": [
    {
     "data": {
      "text/plain": [
       "Map(KS -> 2913000.0, PA -> 1.28E7)"
      ]
     },
     "execution_count": 79,
     "metadata": {},
     "output_type": "execute_result"
    }
   ],
   "source": [
    "val map = scala.collection.mutable.Map(\"PA\" -> 12.8e6, \"KS\" -> 2.913e6)"
   ]
  },
  {
   "cell_type": "code",
   "execution_count": 80,
   "metadata": {},
   "outputs": [
    {
     "data": {
      "text/plain": [
       "1.28E7"
      ]
     },
     "execution_count": 80,
     "metadata": {},
     "output_type": "execute_result"
    }
   ],
   "source": [
    "map(\"PA\")"
   ]
  },
  {
   "cell_type": "code",
   "execution_count": 82,
   "metadata": {},
   "outputs": [],
   "source": [
    "map.update(\"NY\", 19.83e6)"
   ]
  },
  {
   "cell_type": "code",
   "execution_count": 83,
   "metadata": {},
   "outputs": [
    {
     "data": {
      "text/plain": [
       "Map(NY -> 1.983E7, KS -> 2913000.0, PA -> 1.28E7)"
      ]
     },
     "execution_count": 83,
     "metadata": {},
     "output_type": "execute_result"
    }
   ],
   "source": [
    "map"
   ]
  },
  {
   "cell_type": "markdown",
   "metadata": {},
   "source": [
    "<a id=\"files\"></a>\n",
    "## Files\n",
    "\n",
    "[Table of Contents](#toc)"
   ]
  },
  {
   "cell_type": "code",
   "execution_count": 88,
   "metadata": {},
   "outputs": [
    {
     "name": "stdout",
     "output_type": "stream",
     "text": [
      "1,0,3,\"Braund, Mr. Owen Harris\",male,22,1,0,A/5 21171,7.25,,S\n"
     ]
    },
    {
     "data": {
      "text/plain": [
       "null"
      ]
     },
     "execution_count": 88,
     "metadata": {},
     "output_type": "execute_result"
    }
   ],
   "source": [
    "import scala.io.Source\n",
    "val src = Source.fromFile(\"titanic.csv\")\n",
    "val lines = src.getLines\n",
    "val line1 = lines.next.split(\",\") \n",
    "println(line1.mkString(\",\"))\n",
    "src.close"
   ]
  },
  {
   "cell_type": "markdown",
   "metadata": {},
   "source": [
    "<a id=\"funcs\"></a>\n",
    "## Functions\n",
    "\n",
    "[Table of Contents](#toc)"
   ]
  },
  {
   "cell_type": "markdown",
   "metadata": {},
   "source": [
    "Functions in Scala require you to identify the type of the arguments.  Identifying the return type is required if the function is recursive"
   ]
  },
  {
   "cell_type": "code",
   "execution_count": 89,
   "metadata": {},
   "outputs": [
    {
     "data": {
      "text/plain": [
       "f: (x: Double)Double\n"
      ]
     },
     "execution_count": 89,
     "metadata": {},
     "output_type": "execute_result"
    }
   ],
   "source": [
    "def f(x: Double) = { \n",
    "    x * 2\n",
    "}\n",
    "\n",
    "// or  def f(x: Double) = x * 2"
   ]
  },
  {
   "cell_type": "code",
   "execution_count": 90,
   "metadata": {},
   "outputs": [
    {
     "data": {
      "text/plain": [
       "120"
      ]
     },
     "execution_count": 90,
     "metadata": {},
     "output_type": "execute_result"
    }
   ],
   "source": [
    "// recursive functions require you specify the return type\n",
    "def fact(n: Int): Int = { \n",
    "    if(n == 1) 1\n",
    "    else n * fact(n-1)\n",
    "}\n",
    "\n",
    "fact(5)"
   ]
  }
 ],
 "metadata": {
  "kernelspec": {
   "display_name": "Scala",
   "language": "scala",
   "name": "scala"
  },
  "language_info": {
   "codemirror_mode": "text/x-scala",
   "file_extension": ".scala",
   "mimetype": "",
   "name": "Scala",
   "nbconverter_exporter": "",
   "version": "2.11.12"
  },
  "toc": {
   "base_numbering": 1,
   "nav_menu": {},
   "number_sections": false,
   "sideBar": false,
   "skip_h1_title": false,
   "title_cell": "Table of Contents",
   "title_sidebar": "Contents",
   "toc_cell": false,
   "toc_position": {},
   "toc_section_display": false,
   "toc_window_display": false
  }
 },
 "nbformat": 4,
 "nbformat_minor": 2
}
