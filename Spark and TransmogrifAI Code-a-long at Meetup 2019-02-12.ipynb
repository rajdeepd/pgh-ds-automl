{
 "cells": [
  {
   "cell_type": "markdown",
   "metadata": {},
   "source": [
    "<img src=\"./images/pic1.PNG\" alt=\"drawing\" width=\"200\"/>"
   ]
  },
  {
   "cell_type": "markdown",
   "metadata": {},
   "source": [
    "# Summary\n",
    "\n",
    "We will be using TransmogrifAI to help build a model so we may make a submission to the [Titanic: Machine Learning from Disaster](https://www.kaggle.com/c/titanic) Kaggle competition.  This is an excellent challenge if you are new to data science as it serves to introduce\n",
    "* feature engineering\n",
    "* binary classification\n",
    "\n",
    "\n",
    "Please see [TransmogrifAI Github](https://github.com/salesforce/TransmogrifAI) and [TransmogrifAI Docs](https://docs.transmogrif.ai/en/stable/examples/Titanic-Binary-Classification.html) for the original introductory example using the titanic dataset.  Both examples do the same thing, build a binary classifier, but in a slightly different.  Our walkthrough will be closer to the github example. \n",
    "\n",
    "#### Competition Description\n",
    "The sinking of the RMS Titanic is one of the most infamous shipwrecks in history.  On April 15, 1912, during her maiden voyage, the Titanic sank after colliding with an iceberg, killing 1502 out of 2224 passengers and crew. This sensational tragedy shocked the international community and led to better safety regulations for ships.\n",
    "\n",
    "One of the reasons that the shipwreck led to such loss of life was that there were not enough lifeboats for the passengers and crew. Although there was some element of luck involved in surviving the sinking, some groups of people were more likely to survive than others, such as women, children, and the upper-class.\n",
    "\n",
    "In this challenge, we ask you to complete the analysis of what sorts of people were likely to survive. In particular, we ask you to apply the tools of machine learning to predict which passengers survived the tragedy.\n",
    "\n",
    "If you have completed the challenge previously, please go fill out the [google form](https://goo.gl/forms/0tWOTCBMJE8qZ60H2)"
   ]
  },
  {
   "cell_type": "markdown",
   "metadata": {},
   "source": [
    "# Check Scala Version"
   ]
  },
  {
   "cell_type": "code",
   "execution_count": 1,
   "metadata": {},
   "outputs": [],
   "source": [
    "assert(scala.util.Properties.versionString == \"version 2.11.12\")"
   ]
  },
  {
   "cell_type": "markdown",
   "metadata": {},
   "source": [
    "# Get TransmogrifAI"
   ]
  },
  {
   "cell_type": "code",
   "execution_count": 2,
   "metadata": {},
   "outputs": [
    {
     "data": {
      "application/vnd.jupyter.widget-view+json": {
       "model_id": "",
       "version_major": 2,
       "version_minor": 0
      },
      "method": "display_data"
     },
     "metadata": {},
     "output_type": "display_data"
    },
    {
     "data": {
      "application/vnd.jupyter.widget-view+json": {
       "model_id": "11fd8c07-685e-4371-b7ec-4064ea5964ad",
       "version_major": 2,
       "version_minor": 0
      },
      "method": "display_data"
     },
     "metadata": {},
     "output_type": "display_data"
    }
   ],
   "source": [
    "%classpath add mvn com.salesforce.transmogrifai transmogrifai-core_2.11 0.5.0"
   ]
  },
  {
   "cell_type": "markdown",
   "metadata": {},
   "source": [
    "# Get Spark"
   ]
  },
  {
   "cell_type": "code",
   "execution_count": 3,
   "metadata": {},
   "outputs": [
    {
     "data": {
      "application/vnd.jupyter.widget-view+json": {
       "model_id": "",
       "version_major": 2,
       "version_minor": 0
      },
      "method": "display_data"
     },
     "metadata": {},
     "output_type": "display_data"
    },
    {
     "data": {
      "application/vnd.jupyter.widget-view+json": {
       "model_id": "a8a98ba3-f8fb-4a30-a89a-f8af008e5374",
       "version_major": 2,
       "version_minor": 0
      },
      "method": "display_data"
     },
     "metadata": {},
     "output_type": "display_data"
    }
   ],
   "source": [
    "%classpath add mvn org.apache.spark spark-mllib_2.11 2.3.0"
   ]
  },
  {
   "cell_type": "markdown",
   "metadata": {},
   "source": [
    "# Get Started"
   ]
  },
  {
   "cell_type": "code",
   "execution_count": 4,
   "metadata": {
    "scrolled": true
   },
   "outputs": [
    {
     "data": {
      "text/plain": [
       "import org.apache.spark.SparkConf\r\n",
       "import org.apache.spark.sql.SparkSession\r\n",
       "import org.apache.spark.SparkContext\r\n",
       "import org.apache.spark.sql.functions.udf\r\n",
       "import com.salesforce.op._\r\n",
       "import com.salesforce.op.features._\r\n",
       "import com.salesforce.op.features.types._\r\n",
       "import com.salesforce.op.stages.impl.classification._\r\n",
       "import com.salesforce.op.evaluators.Evaluators\n"
      ]
     },
     "execution_count": 4,
     "metadata": {},
     "output_type": "execute_result"
    }
   ],
   "source": [
    "import org.apache.spark.SparkConf\n",
    "import org.apache.spark.sql.SparkSession\n",
    "import org.apache.spark.SparkContext\n",
    "import org.apache.spark.sql.functions.udf\n",
    "\n",
    "import com.salesforce.op._\n",
    "import com.salesforce.op.features._\n",
    "import com.salesforce.op.features.types._\n",
    "import com.salesforce.op.stages.impl.classification._\n",
    "import com.salesforce.op.evaluators.Evaluators"
   ]
  },
  {
   "cell_type": "code",
   "execution_count": 5,
   "metadata": {},
   "outputs": [
    {
     "data": {
      "text/plain": [
       "org.apache.spark.sql.SparkSession$implicits$@13360fd8"
      ]
     },
     "execution_count": 5,
     "metadata": {},
     "output_type": "execute_result"
    }
   ],
   "source": [
    "val conf = new SparkConf().setMaster(\"local[*]\").setAppName(\"automl-app\") //.setExecutorEnv(Array( (\"memory\", \"10g\"))) // Spark configuration\n",
    "val sc = new SparkContext(conf)  // initialize spark context\n",
    "val sqlContext = new org.apache.spark.sql.SQLContext(sc)  // initialize sql context\n",
    "implicit val spark = SparkSession.builder.config(conf).getOrCreate() // start spark session \n",
    "import spark.implicits._"
   ]
  },
  {
   "cell_type": "markdown",
   "metadata": {},
   "source": [
    "Everything below intentionally left blank"
   ]
  },
  {
   "cell_type": "markdown",
   "metadata": {},
   "source": [
    "# Get Data"
   ]
  },
  {
   "cell_type": "code",
   "execution_count": 6,
   "metadata": {},
   "outputs": [
    {
     "data": {
      "application/vnd.jupyter.widget-view+json": {
       "model_id": "a64f6f1c-85d6-435c-85dc-14db6f3366fe",
       "version_major": 2,
       "version_minor": 0
      },
      "method": "display_data"
     },
     "metadata": {},
     "output_type": "display_data"
    }
   ],
   "source": [
    "val readerOptions = Map( \"inferSchema\" -> \"true\", \"header\" -> \"true\")"
   ]
  },
  {
   "cell_type": "code",
   "execution_count": 7,
   "metadata": {},
   "outputs": [
    {
     "name": "stdout",
     "output_type": "stream",
     "text": [
      "root\n",
      " |-- PassengerId: integer (nullable = true)\n",
      " |-- Survived: integer (nullable = true)\n",
      " |-- Pclass: integer (nullable = true)\n",
      " |-- Name: string (nullable = true)\n",
      " |-- Sex: string (nullable = true)\n",
      " |-- Age: double (nullable = true)\n",
      " |-- SibSp: integer (nullable = true)\n",
      " |-- Parch: integer (nullable = true)\n",
      " |-- Ticket: string (nullable = true)\n",
      " |-- Fare: double (nullable = true)\n",
      " |-- Cabin: string (nullable = true)\n",
      " |-- Embarked: string (nullable = true)\n",
      "\n",
      "+-----------+--------+------+--------------------+------+----+-----+-----+----------------+-------+-----+--------+\n",
      "|PassengerId|Survived|Pclass|                Name|   Sex| Age|SibSp|Parch|          Ticket|   Fare|Cabin|Embarked|\n",
      "+-----------+--------+------+--------------------+------+----+-----+-----+----------------+-------+-----+--------+\n",
      "|          1|       0|     3|Braund, Mr. Owen ...|  male|22.0|    1|    0|       A/5 21171|   7.25| null|       S|\n",
      "|          2|       1|     1|Cumings, Mrs. Joh...|female|38.0|    1|    0|        PC 17599|71.2833|  C85|       C|\n",
      "|          3|       1|     3|Heikkinen, Miss. ...|female|26.0|    0|    0|STON/O2. 3101282|  7.925| null|       S|\n",
      "|          4|       1|     1|Futrelle, Mrs. Ja...|female|35.0|    1|    0|          113803|   53.1| C123|       S|\n",
      "|          5|       0|     3|Allen, Mr. Willia...|  male|35.0|    0|    0|          373450|   8.05| null|       S|\n",
      "+-----------+--------+------+--------------------+------+----+-----+-----+----------------+-------+-----+--------+\n",
      "only showing top 5 rows\n",
      "\n"
     ]
    },
    {
     "data": {
      "text/plain": [
       "null"
      ]
     },
     "execution_count": 7,
     "metadata": {},
     "output_type": "execute_result"
    }
   ],
   "source": [
    "val rawData = sqlContext.read.format(\"csv\").options(readerOptions).load(\"data/train.csv\")\n",
    "rawData.printSchema\n",
    "rawData.show(5)"
   ]
  },
  {
   "cell_type": "code",
   "execution_count": 8,
   "metadata": {},
   "outputs": [
    {
     "data": {
      "text/plain": [
       "[Name, Sex, Age, SibSp, Parch, Ticket, Fare, Cabin, Embarked]"
      ]
     },
     "execution_count": 8,
     "metadata": {},
     "output_type": "execute_result"
    }
   ],
   "source": [
    "val doNotTouch = rawData.columns.splitAt(3)._2"
   ]
  },
  {
   "cell_type": "code",
   "execution_count": 9,
   "metadata": {},
   "outputs": [
    {
     "data": {
      "text/plain": [
       "\n",
       "select PassengerId,\n",
       "cast(Survived as double) as Survived,\n",
       "cast(Pclass as string) as Pclass,\n",
       "Name,Sex,Age,SibSp,Parch,Ticket,Fare,Cabin,Embarked\n",
       "from data\n"
      ]
     },
     "execution_count": 9,
     "metadata": {},
     "output_type": "execute_result"
    }
   ],
   "source": [
    "val query = s\"\"\"\n",
    "    select PassengerId, \n",
    "    cast(Survived as double) as Survived,\n",
    "    cast(Pclass as string) as Pclass, \n",
    "    ${doNotTouch.mkString(\",\")}\n",
    "    from data\n",
    "\"\"\""
   ]
  },
  {
   "cell_type": "code",
   "execution_count": 10,
   "metadata": {},
   "outputs": [],
   "source": [
    "rawData.createOrReplaceTempView(\"data\")"
   ]
  },
  {
   "cell_type": "code",
   "execution_count": 11,
   "metadata": {},
   "outputs": [
    {
     "name": "stdout",
     "output_type": "stream",
     "text": [
      "root\n",
      " |-- PassengerId: integer (nullable = true)\n",
      " |-- Survived: double (nullable = true)\n",
      " |-- Pclass: string (nullable = true)\n",
      " |-- Name: string (nullable = true)\n",
      " |-- Sex: string (nullable = true)\n",
      " |-- Age: double (nullable = true)\n",
      " |-- SibSp: integer (nullable = true)\n",
      " |-- Parch: integer (nullable = true)\n",
      " |-- Ticket: string (nullable = true)\n",
      " |-- Fare: double (nullable = true)\n",
      " |-- Cabin: string (nullable = true)\n",
      " |-- Embarked: string (nullable = true)\n",
      "\n",
      "+-----------+--------+------+--------------------+------+----+-----+-----+----------------+-------+-----+--------+\n",
      "|PassengerId|Survived|Pclass|                Name|   Sex| Age|SibSp|Parch|          Ticket|   Fare|Cabin|Embarked|\n",
      "+-----------+--------+------+--------------------+------+----+-----+-----+----------------+-------+-----+--------+\n",
      "|          1|     0.0|     3|Braund, Mr. Owen ...|  male|22.0|    1|    0|       A/5 21171|   7.25| null|       S|\n",
      "|          2|     1.0|     1|Cumings, Mrs. Joh...|female|38.0|    1|    0|        PC 17599|71.2833|  C85|       C|\n",
      "|          3|     1.0|     3|Heikkinen, Miss. ...|female|26.0|    0|    0|STON/O2. 3101282|  7.925| null|       S|\n",
      "|          4|     1.0|     1|Futrelle, Mrs. Ja...|female|35.0|    1|    0|          113803|   53.1| C123|       S|\n",
      "|          5|     0.0|     3|Allen, Mr. Willia...|  male|35.0|    0|    0|          373450|   8.05| null|       S|\n",
      "+-----------+--------+------+--------------------+------+----+-----+-----+----------------+-------+-----+--------+\n",
      "only showing top 5 rows\n",
      "\n"
     ]
    },
    {
     "data": {
      "text/plain": [
       "null"
      ]
     },
     "execution_count": 11,
     "metadata": {},
     "output_type": "execute_result"
    }
   ],
   "source": [
    "val passengerData = spark.sql(query)\n",
    "passengerData.printSchema\n",
    "passengerData.show(5)"
   ]
  },
  {
   "cell_type": "code",
   "execution_count": 12,
   "metadata": {},
   "outputs": [
    {
     "data": {
      "text/plain": [
       "0.3838383838383838"
      ]
     },
     "execution_count": 12,
     "metadata": {},
     "output_type": "execute_result"
    }
   ],
   "source": [
    "passengerData.filter(\"Survived = 1\").count / passengerData.count.toDouble"
   ]
  },
  {
   "cell_type": "code",
   "execution_count": null,
   "metadata": {},
   "outputs": [],
   "source": []
  },
  {
   "cell_type": "markdown",
   "metadata": {},
   "source": [
    "# Declare Target and Features"
   ]
  },
  {
   "cell_type": "code",
   "execution_count": 13,
   "metadata": {},
   "outputs": [],
   "source": [
    "val (target, features) = FeatureBuilder.fromDataFrame[RealNN](passengerData, response = \"Survived\")\n",
    "OutputCell.HIDDEN"
   ]
  },
  {
   "cell_type": "code",
   "execution_count": 14,
   "metadata": {},
   "outputs": [
    {
     "data": {
      "text/plain": [
       "Feature(name = Survived, uid = RealNN_000000000002, isResponse = true, originStage = FeatureGeneratorStage_000000000002, parents = [], distributions = [])"
      ]
     },
     "execution_count": 14,
     "metadata": {},
     "output_type": "execute_result"
    }
   ],
   "source": [
    "target"
   ]
  },
  {
   "cell_type": "code",
   "execution_count": 15,
   "metadata": {},
   "outputs": [
    {
     "name": "stdout",
     "output_type": "stream",
     "text": [
      "(PassengerId,Integral_000000000001)\n",
      "(Pclass,Text_000000000003)\n",
      "(Name,Text_000000000004)\n",
      "(Sex,Text_000000000005)\n",
      "(Age,Real_000000000006)\n",
      "(SibSp,Integral_000000000007)\n",
      "(Parch,Integral_000000000008)\n",
      "(Ticket,Text_000000000009)\n",
      "(Fare,Real_00000000000a)\n",
      "(Cabin,Text_00000000000b)\n",
      "(Embarked,Text_00000000000c)\n"
     ]
    }
   ],
   "source": [
    "features.foreach(feature => println(feature.name, feature.uid))"
   ]
  },
  {
   "cell_type": "markdown",
   "metadata": {},
   "source": [
    "# Transmogrify (Feature Engineering)"
   ]
  },
  {
   "cell_type": "code",
   "execution_count": 16,
   "metadata": {},
   "outputs": [
    {
     "ename": "<console>",
     "evalue": "1",
     "output_type": "error",
     "traceback": [
      "\u001b[1;31m<console>:1: error: identifier expected but integer literal found.\u001b[0;0m",
      "\u001b[1;31mfilter( lambda x: x > 2, ls) rera\u001b[0;0m",
      "\u001b[1;31m                      ^\u001b[0;0m"
     ]
    }
   ],
   "source": [
    "filter( lambda x: x > 2, ls) rera"
   ]
  },
  {
   "cell_type": "code",
   "execution_count": 17,
   "metadata": {},
   "outputs": [
    {
     "data": {
      "text/plain": [
       "Feature(name = Age-Cabin-Embarked-Fare-Name-Parch-Pclass-Sex-SibSp-Ticket_4-stagesApplied_OPVector_000000000010, uid = OPVector_000000000010, isResponse = false, originStage = VectorsCombiner_000000000010, parents = [OPVector_00000000000d,OPVector_00000000000e,OPVector_00000000000f], distributions = [])"
      ]
     },
     "execution_count": 17,
     "metadata": {},
     "output_type": "execute_result"
    }
   ],
   "source": [
    "val id = features(0)\n",
    "val featureVector = features.filter{ feature => feature.name != \"PassengerId\"}.transmogrify()"
   ]
  },
  {
   "cell_type": "code",
   "execution_count": 18,
   "metadata": {},
   "outputs": [
    {
     "data": {
      "text/plain": [
       "+-- combVec\n",
       "|    +-- smartTxtVec\n",
       "|    |    +-- ConcatText(Embarked)\n",
       "|    |    +-- ConcatText(Cabin)\n",
       "|    |    +-- ConcatText(Ticket)\n",
       "|    |    +-- ConcatText(Sex)\n",
       "|    |    +-- ConcatText(Name)\n",
       "|    |    +-- ConcatText(Pclass)\n",
       "|    +-- vecReal\n",
       "|    |    +-- SumReal(Fare)\n",
       "|    |    +-- SumReal(Age)\n",
       "|    +-- vecInt\n",
       "|    |    +-- SumIntegral(Parch)\n",
       "|    |    +-- SumIntegral(SibSp)\n"
      ]
     },
     "execution_count": 18,
     "metadata": {},
     "output_type": "execute_result"
    }
   ],
   "source": [
    "featureVector.prettyParentStages"
   ]
  },
  {
   "cell_type": "code",
   "execution_count": 19,
   "metadata": {},
   "outputs": [
    {
     "data": {
      "text/plain": [
       "VectorsCombiner_000000000010"
      ]
     },
     "execution_count": 19,
     "metadata": {},
     "output_type": "execute_result"
    }
   ],
   "source": [
    "featureVector.originStage"
   ]
  },
  {
   "cell_type": "markdown",
   "metadata": {},
   "source": [
    "# Sanity Check (Feature Refinement)"
   ]
  },
  {
   "cell_type": "code",
   "execution_count": 20,
   "metadata": {},
   "outputs": [
    {
     "data": {
      "text/plain": [
       "Feature(name = Age-Cabin-Embarked-Fare-Name-Parch-Pclass-Sex-SibSp-Survived-Ticket_5-stagesApplied_OPVector_000000000011, uid = OPVector_000000000011, isResponse = false, originStage = SanityChecker_000000000011, parents = [RealNN_000000000002,OPVector_000000000010], distributions = [])"
      ]
     },
     "execution_count": 20,
     "metadata": {},
     "output_type": "execute_result"
    }
   ],
   "source": [
    "val checkedFeatureVector = target.sanityCheck(featureVector, removeBadFeatures=true)"
   ]
  },
  {
   "cell_type": "code",
   "execution_count": 21,
   "metadata": {},
   "outputs": [
    {
     "data": {
      "text/plain": [
       "categoricalLabel: If true, then label is treated as categorical (eg. Cramer's V will be calculated between it and categorical features). If this is not set, then use a max class fraction of 0.1 to estimate whether label iscategorical or not. (undefined)\n",
       "\n",
       "checkSample: Rate to downsample the data for statistical calculations (note: actual sampling will not be exact due to Spark's dataset sampling behavior) (default: 1.0, current: 1.0)\n",
       "\n",
       "correlationExclusion: Setting for what categories of feature vector columns to exclude from the correlation calculation (default: NoExclusion, current: NoExclusion)\n",
       "\n",
       "correlationType: Which coefficient to use for computing correlation (default: Pearson, current: Pearson)\n",
       "\n",
       "featureLabelCorrOnly: If true, then only calculate the correlations between the features and the label. Otherwise, calculate the entire correlation matrix, which includes all feature-feature correlations. (default: false, current: false)\n",
       "\n",
       "inputFeatures: Input features (default: [Lcom.salesforce.op.features.TransientFeature;@4ff8cede, current: [Lcom.salesforce.op.features.TransientFeature;@4871eb20)\n",
       "\n",
       "inputSchema: the schema of the input data from the dataframe (default: StructType())\n",
       "\n",
       "logLevel: sets log level (INFO, WARN, ERROR, DEBUG etc.) (undefined)\n",
       "\n",
       "maxCorrelation: Maximum correlation (absolute value) allowed between a feature in the feature vector and the label (default: 0.95, current: 0.95)\n",
       "\n",
       "maxCramersV: Maximum categorical correlation value (Cramer's V) allowed between a categorical feature in thefeature vector and a categorical label (default: 0.95, current: 0.95)\n",
       "\n",
       "maxRuleConfidence: Maximum allowed confidence of association rules in categorical variables. A categorical variable will be removed if there is a choice where the maximum confidence is above this threshold, and the support for that choice is above the min rule support parameter, defined below. (default: 1.0, current: 1.0)\n",
       "\n",
       "minCorrelation: Minimum correlation (absolute value) allowed between a feature in the feature vector and the label (default: 0.0, current: 0.0)\n",
       "\n",
       "minRuleSupport: Categoricals can be removed if an association rule is found between one of the choices and a categorical label where the confidence of that rule is above maxRuleConfidence and the support fraction of that choice is above minRuleSupport. (default: 1.0, current: 1.0)\n",
       "\n",
       "minVariance: Minimum amount of variance allowed for each feature and label (default: 1.0E-5, current: 1.0E-5)\n",
       "\n",
       "outputFeatureName: output name that overrides default output name for feature made by this stage (undefined)\n",
       "\n",
       "outputMetadata: any metadata that user wants to save in the transformed DataFrame (default: {})\n",
       "\n",
       "protectTextSharedHash: If true, an individual hash is dropped/kept independently of related null indicators and other hashes in the same shared hash space. (default: false, current: false)\n",
       "\n",
       "removeBadFeatures: If set to true, this will automatically remove all the bad features from the feature vector (default: false, current: true)\n",
       "\n",
       "removeFeatureGroup: If true, remove all features descended from a parent feature (parent is direct parent before vectorization) which has derived features that meet the exclusion criteria. (default: true, current: true)\n",
       "\n",
       "sampleLowerLimit: Lower limit on number of samples in downsampled data set (note: sample limit will not be exact, due to Spark's dataset sampling behavior) (default: 1000, current: 1000)\n",
       "\n",
       "sampleSeed: Seed to use when sampling (default: 1473713183352745757, current: 7936198063612643512)\n",
       "\n",
       "sampleUpperLimit: Upper limit on number of samples in downsampled data set (note: sample limit will not be exact, due to Spark's dataset sampling behavior) (default: 1000000, current: 1000000)"
      ]
     },
     "execution_count": 21,
     "metadata": {},
     "output_type": "execute_result"
    }
   ],
   "source": [
    "checkedFeatureVector.originStage.explainParams.split(\"\\n\").mkString(\"\\n\\n\")"
   ]
  },
  {
   "cell_type": "code",
   "execution_count": null,
   "metadata": {},
   "outputs": [],
   "source": []
  },
  {
   "cell_type": "markdown",
   "metadata": {},
   "source": [
    "# Model Selection"
   ]
  },
  {
   "cell_type": "code",
   "execution_count": 22,
   "metadata": {},
   "outputs": [
    {
     "data": {
      "text/plain": [
       "ModelSelector_00000000001d"
      ]
     },
     "execution_count": 22,
     "metadata": {},
     "output_type": "execute_result"
    }
   ],
   "source": [
    "val modelSelector = BinaryClassificationModelSelector.withCrossValidation(\n",
    "    numFolds=3, parallelism=8\n",
    ").setInput(\n",
    "    (target,checkedFeatureVector )\n",
    ").setOutputFeatureName(\"prediction\")"
   ]
  },
  {
   "cell_type": "code",
   "execution_count": 23,
   "metadata": {},
   "outputs": [
    {
     "data": {
      "application/vnd.jupyter.widget-view+json": {
       "model_id": "5f3ee68b-9c41-429a-b152-262e90f14457",
       "version_major": 2,
       "version_minor": 0
      },
      "method": "display_data"
     },
     "metadata": {},
     "output_type": "display_data"
    }
   ],
   "source": [
    "modelSelector.validator.getParams"
   ]
  },
  {
   "cell_type": "code",
   "execution_count": 24,
   "metadata": {},
   "outputs": [
    {
     "name": "stdout",
     "output_type": "stream",
     "text": [
      "(OpLogisticRegression_000000000016,[Lorg.apache.spark.ml.param.ParamMap;@2f506d41)\n",
      "(OpRandomForestClassifier_000000000017,[Lorg.apache.spark.ml.param.ParamMap;@324bdf5d)\n",
      "(OpGBTClassifier_000000000018,[Lorg.apache.spark.ml.param.ParamMap;@3bd1bdde)\n",
      "(OpLinearSVC_000000000019,[Lorg.apache.spark.ml.param.ParamMap;@54feb1e9)\n"
     ]
    }
   ],
   "source": [
    "modelSelector.models.foreach(println)"
   ]
  },
  {
   "cell_type": "code",
   "execution_count": 25,
   "metadata": {},
   "outputs": [
    {
     "data": {
      "text/plain": [
       "48"
      ]
     },
     "execution_count": 25,
     "metadata": {},
     "output_type": "execute_result"
    }
   ],
   "source": [
    "modelSelector.models.map{ model => model._2.length}.sum"
   ]
  },
  {
   "cell_type": "code",
   "execution_count": 26,
   "metadata": {},
   "outputs": [
    {
     "data": {
      "text/plain": [
       "string2"
      ]
     },
     "execution_count": 26,
     "metadata": {},
     "output_type": "execute_result"
    }
   ],
   "source": [
    "val tup = (\"string1\", \"string2\")\n",
    "tup._1 \n",
    "tup._2"
   ]
  },
  {
   "cell_type": "markdown",
   "metadata": {},
   "source": [
    "The following was done so that we would just run through each estimator, each with 1 set of hyperparameters so that everything would execute in a timely fashion for the meeting.  "
   ]
  },
  {
   "cell_type": "code",
   "execution_count": 27,
   "metadata": {},
   "outputs": [
    {
     "data": {
      "text/plain": [
       "[[(OpLogisticRegression_000000000016,[Lorg.apache.spark.ml.param.ParamMap;@7f960aa6), (OpRandomForestClassifier_000000000017,[Lorg.apache.spark.ml.param.ParamMap;@2808a57b), (OpGBTClassifier_000000000018,[Lorg.apache.spark.ml.param.ParamMap;@32bfe32c), (OpLinearSVC_000000000019,[Lorg.apache.spark.ml.param.ParamMap;@ff531bd)]]"
      ]
     },
     "execution_count": 27,
     "metadata": {},
     "output_type": "execute_result"
    }
   ],
   "source": [
    "val limitedModelsToTry = modelSelector.models.map{ model => (model._1, model._2.take(1))}"
   ]
  },
  {
   "cell_type": "code",
   "execution_count": 28,
   "metadata": {},
   "outputs": [
    {
     "data": {
      "text/plain": [
       "ModelSelector_000000000022"
      ]
     },
     "execution_count": 28,
     "metadata": {},
     "output_type": "execute_result"
    }
   ],
   "source": [
    "val limitedModelSelector = BinaryClassificationModelSelector.withCrossValidation(\n",
    "    numFolds=3, parallelism=8, modelsAndParameters = limitedModelsToTry\n",
    ").setInput(\n",
    "    (target,checkedFeatureVector )\n",
    ").setOutputFeatureName(\"prediction\")"
   ]
  },
  {
   "cell_type": "markdown",
   "metadata": {},
   "source": [
    "If you want to run this against all models and hyperparameters commend and uncomment the 1st and 2nd lines of code accordingly.  "
   ]
  },
  {
   "cell_type": "code",
   "execution_count": 29,
   "metadata": {},
   "outputs": [
    {
     "data": {
      "text/plain": [
       "Feature(name = prediction, uid = Prediction_000000000022, isResponse = true, originStage = ModelSelector_000000000022, parents = [RealNN_000000000002,OPVector_000000000011], distributions = [])"
      ]
     },
     "execution_count": 29,
     "metadata": {},
     "output_type": "execute_result"
    }
   ],
   "source": [
    "val prediction = limitedModelSelector.getOutput()\n",
    "// val prediction = modelSelector.getOutput()"
   ]
  },
  {
   "cell_type": "markdown",
   "metadata": {},
   "source": [
    "\n",
    "\n",
    "# Setting up a TransmogrifAI Workflow"
   ]
  },
  {
   "cell_type": "code",
   "execution_count": 30,
   "metadata": {},
   "outputs": [
    {
     "data": {
      "text/plain": [
       "com.salesforce.op.OpWorkflow@6cb2a8ef"
      ]
     },
     "execution_count": 30,
     "metadata": {},
     "output_type": "execute_result"
    }
   ],
   "source": [
    "val workflow = new OpWorkflow().setResultFeatures(id, prediction)"
   ]
  },
  {
   "cell_type": "markdown",
   "metadata": {},
   "source": [
    "# Train a Workflow"
   ]
  },
  {
   "cell_type": "code",
   "execution_count": 31,
   "metadata": {
    "scrolled": true
   },
   "outputs": [
    {
     "data": {
      "text/plain": [
       "[PassengerId: int, Survived: double ... 10 more fields]"
      ]
     },
     "execution_count": 31,
     "metadata": {},
     "output_type": "execute_result"
    }
   ],
   "source": [
    "val Array(train, test) = passengerData.randomSplit( Array( 0.7, 0.3)) "
   ]
  },
  {
   "cell_type": "code",
   "execution_count": 32,
   "metadata": {},
   "outputs": [
    {
     "name": "stdout",
     "output_type": "stream",
     "text": [
      "605\n",
      "286\n"
     ]
    }
   ],
   "source": [
    "println(train.count)\n",
    "println(test.count)"
   ]
  },
  {
   "cell_type": "code",
   "execution_count": 33,
   "metadata": {},
   "outputs": [
    {
     "data": {
      "text/plain": [
       "com.salesforce.op.OpWorkflowModel@1ecb95bc"
      ]
     },
     "execution_count": 33,
     "metadata": {},
     "output_type": "execute_result"
    }
   ],
   "source": [
    "workflow.setInputDataset(train)\n",
    "\n",
    "val fittedWorkflow = workflow.train()"
   ]
  },
  {
   "cell_type": "code",
   "execution_count": 34,
   "metadata": {},
   "outputs": [
    {
     "name": "stdout",
     "output_type": "stream",
     "text": [
      "Evaluated OpGBTClassifier, OpRandomForestClassifier, OpLogisticRegression, OpLinearSVC models using Cross Validation and area under precision-recall metric.\n",
      "Evaluated 1 OpGBTClassifier model with area under precision-recall metric between [0.8564210197461917, 0.8564210197461917].\n",
      "Evaluated 1 OpRandomForestClassifier model with area under precision-recall metric between [0.81747725163217, 0.81747725163217].\n",
      "Evaluated 1 OpLogisticRegression model with area under precision-recall metric between [0.7955008409293264, 0.7955008409293264].\n",
      "Evaluated 1 OpLinearSVC model with area under precision-recall metric between [0.7839172485128754, 0.7839172485128754].\n",
      "+--------------------------------------------------------+\n",
      "|            Selected Model - OpGBTClassifier            |\n",
      "+--------------------------------------------------------+\n",
      "| Model Param           | Value                          |\n",
      "+-----------------------+--------------------------------+\n",
      "| cacheNodeIds          | false                          |\n",
      "| checkpointInterval    | 10                             |\n",
      "| featureSubsetStrategy | all                            |\n",
      "| impurity              | gini                           |\n",
      "| lossType              | logistic                       |\n",
      "| maxBins               | 32                             |\n",
      "| maxDepth              | 3                              |\n",
      "| maxIter               | 20                             |\n",
      "| maxMemoryInMB         | 256                            |\n",
      "| minInfoGain           | 0.001                          |\n",
      "| minInstancesPerNode   | 10                             |\n",
      "| modelType             | OpGBTClassifier                |\n",
      "| name                  | OpGBTClassifier_000000000018_0 |\n",
      "| seed                  | 1918769265                     |\n",
      "| stepSize              | 0.1                            |\n",
      "| subsamplingRate       | 1.0                            |\n",
      "| uid                   | OpGBTClassifier_000000000018   |\n",
      "+-----------------------+--------------------------------+\n",
      "+-------------------------------------------------------------------------+\n",
      "|                        Model Evaluation Metrics                         |\n",
      "+-------------------------------------------------------------------------+\n",
      "| Metric Name                 | Training Set Value  | Hold Out Set Value  |\n",
      "+-----------------------------+---------------------+---------------------+\n",
      "| area under ROC              | 0.9273347620121815  | 0.8802083333333334  |\n",
      "| area under precision-recall | 0.9103229981092126  | 0.767459190092613   |\n",
      "| brier score                 | 0.0996482379317856  | 0.14671172090736664 |\n",
      "| error                       | 0.13479052823315119 | 0.21428571428571427 |\n",
      "| f1                          | 0.814070351758794   | 0.7391304347826088  |\n",
      "| false negative              | 46.0                | 7.0                 |\n",
      "| false positive              | 28.0                | 5.0                 |\n",
      "| precision                   | 0.8526315789473684  | 0.7727272727272727  |\n",
      "| recall                      | 0.7788461538461539  | 0.7083333333333334  |\n",
      "| true negative               | 313.0               | 27.0                |\n",
      "| true positive               | 162.0               | 17.0                |\n",
      "+-----------------------------+---------------------+---------------------+\n",
      "+--------------------------------------------------+\n",
      "|                Top Model Insights                |\n",
      "+--------------------------------------------------+\n",
      "| Top Positive Correlations |    Correlation Value |\n",
      "+---------------------------+----------------------+\n",
      "| Sex(Sex = Female)         |   0.5837465997087822 |\n",
      "| Name                      |  0.38303587683879364 |\n",
      "| Pclass(Pclass = 1)        |   0.2682607744498914 |\n",
      "| Fare                      |   0.2553085224155107 |\n",
      "| Ticket                    |  0.19047557766433662 |\n",
      "| Embarked(Embarked = C)    |   0.1708339637665141 |\n",
      "| Pclass(Pclass = 2)        |  0.12247494210781484 |\n",
      "| Cabin                     |  0.10969258384181742 |\n",
      "| Parch                     |  0.10184522717960708 |\n",
      "| Embarked(Embarked = null) |  0.05469595917971964 |\n",
      "| Embarked(Embarked = Q)    |  0.00775100260281865 |\n",
      "| SibSp                     | -0.01935272891153414 |\n",
      "| Age                       | -0.11839078043763722 |\n",
      "| Age(Age = null)           | -0.12833710912565477 |\n",
      "| Embarked(Embarked = S)    | -0.15879063549050976 |\n",
      "+---------------------------+----------------------+\n",
      "+---------------------------------------------------+\n",
      "| Top Negative Correlations |     Correlation Value |\n",
      "+---------------------------+-----------------------+\n",
      "| Name                      |   -0.5839582381818597 |\n",
      "| Sex(Sex = Male)           |   -0.5837465997087825 |\n",
      "| Cabin(Cabin = null)       |   -0.3425716205293384 |\n",
      "| Pclass(Pclass = 3)        |   -0.3306945644917626 |\n",
      "| Ticket                    |   -0.1008274660403275 |\n",
      "| Cabin                     | -0.047225418220428146 |\n",
      "+---------------------------+-----------------------+\n",
      "+--------------------------------------------------+\n",
      "| Top Contributions         |   Contribution Value |\n",
      "+---------------------------+----------------------+\n",
      "| Age                       |  0.22895646981103343 |\n",
      "| Sex(Sex = Male)           |  0.12308092319670441 |\n",
      "| Fare                      |   0.0944298393034225 |\n",
      "| SibSp                     |  0.07806661617594043 |\n",
      "| Name                      |  0.06716683931134268 |\n",
      "| Pclass(Pclass = 3)        |  0.05422874010886991 |\n",
      "| Cabin(Cabin = null)       |   0.0390950088977347 |\n",
      "| Embarked(Embarked = S)    |  0.02594039564462113 |\n",
      "| Ticket                    | 0.016899763275885802 |\n",
      "| Age(Age = null)           |  0.01375743008037687 |\n",
      "| Embarked(Embarked = Q)    |  0.00820850065165088 |\n",
      "| Parch                     | 0.006465370133829533 |\n",
      "| Sex(Sex = Female)         |                  0.0 |\n",
      "| Cabin                     |                  0.0 |\n",
      "| Embarked(Embarked = null) |                  0.0 |\n",
      "+---------------------------+----------------------+\n",
      "+------------------------------------+\n",
      "| Top CramersV |            CramersV |\n",
      "+--------------+---------------------+\n",
      "| Sex          |  0.5837465997087823 |\n",
      "| Cabin        | 0.34257162052933854 |\n",
      "| Pclass       |  0.3397719568707413 |\n",
      "| Embarked     | 0.18348907336946663 |\n",
      "| Age          | 0.12833710912565466 |\n",
      "+--------------+---------------------+\n"
     ]
    }
   ],
   "source": [
    "println(fittedWorkflow.summaryPretty())"
   ]
  },
  {
   "cell_type": "markdown",
   "metadata": {},
   "source": [
    "# Evaluate on Test Data"
   ]
  },
  {
   "cell_type": "code",
   "execution_count": 35,
   "metadata": {},
   "outputs": [
    {
     "data": {
      "text/plain": [
       "com.salesforce.op.OpWorkflowModel@1ecb95bc"
      ]
     },
     "execution_count": 35,
     "metadata": {},
     "output_type": "execute_result"
    }
   ],
   "source": [
    "fittedWorkflow.setInputDataset(test)"
   ]
  },
  {
   "cell_type": "code",
   "execution_count": 38,
   "metadata": {},
   "outputs": [
    {
     "data": {
      "text/plain": [
       "OpBinaryClassificationEvaluator_000000000048"
      ]
     },
     "execution_count": 38,
     "metadata": {},
     "output_type": "execute_result"
    }
   ],
   "source": [
    "val eval = Evaluators.BinaryClassification().setLabelCol(target).setPredictionCol(prediction)"
   ]
  },
  {
   "cell_type": "code",
   "execution_count": 39,
   "metadata": {},
   "outputs": [
    {
     "data": {
      "text/plain": [
       "{\r\n",
       "  \"Precision\" : 0.7428571428571429,\r\n",
       "  \"Recall\" : 0.7090909090909091,\r\n",
       "  \"F1\" : 0.7255813953488373,\r\n",
       "  \"AuROC\" : 0.8305526859504131,\r\n",
       "  \"AuPR\" : 0.7956716812102792,\r\n",
       "  \"Error\" : 0.2062937062937063,\r\n",
       "  \"TP\" : 78.0,\r\n",
       "  \"TN\" : 149.0,\r\n",
       "  \"FP\" : 27.0,\r\n",
       "  \"FN\" : 32.0,\r\n",
       "  \"thresholds\" : [ 0.9702154349918662, 0.9670782573697327, 0.9418867915882827, 0.9417846471900747, 0.9403493518903523, 0.9393256965416754, 0.93519985322478, 0.9334282956102187, 0.9325007085834183, 0.9303093588668164, 0.9291263945418542, 0.9271557149731809, 0.9264380132264233, 0.9263830752293651, 0.9233095393848113, 0.9228231957603084, 0.9208319031079146, 0.92082009018026, 0.9192601698015893, 0.919015584038735, 0.9180178902399556, 0.9176832532469993, 0.9176142974416633, 0.916973578591742, 0.9161449577543586, 0.9126239680886669, 0.9106484616507198, 0.9104604256896982, 0.9068812716149011, 0.9059923149041862, 0.9055188001669879, 0.9022772621208082, 0.9018078938904991, 0.9015801018564829, 0.8999272262987055, 0.8986158874776211, 0.8978963677027005, 0.8977356351114167, 0.8975855134779381, 0.896329147848848, 0.890421163430264, 0.8831212555876542, 0.880168378553821, 0.8769270245899432, 0.8753383701888815, 0.8672888621887481, 0.8320921872509199, 0.8080294640192688, 0.8025506359715391, 0.7721769815879203, 0.7620050196212769, 0.7593403229410857, 0.736558917080719, 0.7205299035627111, 0.7176380043984432, 0.7111497185911297, 0.6960525624685341, 0.6935005317013012, 0.6850056989398707, 0.6818298525151043, 0.6680401560430191, 0.654964879042456, 0.6414036354435488, 0.6401608313248329, 0.6352988654627418, 0.6183905085013752, 0.615520749420442, 0.5905357533166367, 0.5801275915436327, 0.5796780222713636, 0.5751019525422914, 0.5738550797558737, 0.5734692993691688, 0.5572373095868467, 0.5563081629017318, 0.5470796487562131, 0.5417455642378532, 0.5227773959132493, 0.4894771794141526, 0.4630335792530538, 0.43866848705090733, 0.4276388926332815, 0.4253499716609832, 0.3546106566365519, 0.3322975054308114, 0.31932378408495055, 0.31257082892443, 0.30255134329657307, 0.29452123179532097, 0.29428593914751233, 0.26820454819356776, 0.264671723411518, 0.25013982681822555, 0.24838866477325616, 0.24483887993156683, 0.23989946605252144, 0.2370961029835208, 0.2339307256147154, 0.2262317494416347, 0.22467478118160866, 0.22375014309030672, 0.21748841356924986, 0.19476137791539816, 0.18301753197818982, 0.1814393554411048, 0.17778417547518222, 0.1752523680940803, 0.17323578614586, 0.1579048525685074, 0.14597041628534557, 0.1452995982784845, 0.14288719806976036, 0.14020214143552534, 0.1376234222905861, 0.12966457828130118, 0.1268237476806815, 0.12465272038813635, 0.12444676360967266, 0.12207034334907363, 0.11960887042873258, 0.11280581880108975, 0.11146705728032702, 0.11139577804106893, 0.1108791394438563, 0.10840296099106017, 0.10818208915563543, 0.10551564541671787, 0.10290119631890182, 0.09948298509990361, 0.09528952711449223, 0.09420841164689653, 0.09364363268670983, 0.09198076530165178, 0.08522385690320378, 0.08294475215166364, 0.08286349351944267, 0.08241153434027404, 0.07974425053117451, 0.07815923840072914, 0.07631232068488569, 0.0755222279947152, 0.0742222327705967, 0.07065248228128396, 0.06750437386230868, 0.0606254420966732, 0.05535995749341782, 0.05356007106759009, 0.052950311447153786 ],\r\n",
       "  \"precisionByThreshold\" : [ 1.0, 1.0, 1.0, 0.8, 0.875, 0.9, 0.9090909090909091, 0.9166666666666666, 0.8666666666666667, 0.8823529411764706, 0.8888888888888888, 0.8947368421052632, 0.9, 0.9090909090909091, 0.8695652173913043, 0.88, 0.8846153846153846, 0.8888888888888888, 0.8928571428571429, 0.896551724137931, 0.9, 0.9032258064516129, 0.90625, 0.9090909090909091, 0.9117647058823529, 0.9142857142857143, 0.9166666666666666, 0.918918918918919, 0.9210526315789473, 0.9230769230769231, 0.925, 0.926829268292683, 0.9285714285714286, 0.9302325581395349, 0.9318181818181818, 0.9333333333333333, 0.9347826086956522, 0.9166666666666666, 0.92, 0.9215686274509803, 0.9245283018867925, 0.9259259259259259, 0.9272727272727272, 0.9285714285714286, 0.9298245614035088, 0.9310344827586207, 0.9322033898305084, 0.9242424242424242, 0.9253731343283582, 0.9117647058823529, 0.9130434782608695, 0.9142857142857143, 0.9154929577464789, 0.9166666666666666, 0.9041095890410958, 0.8918918918918919, 0.88, 0.881578947368421, 0.8701298701298701, 0.8717948717948718, 0.8414634146341463, 0.8313253012048193, 0.8333333333333334, 0.8235294117647058, 0.8255813953488372, 0.7912087912087912, 0.7934782608695652, 0.7849462365591398, 0.7872340425531915, 0.7789473684210526, 0.78125, 0.7653061224489796, 0.7676767676767676, 0.7623762376237624, 0.7549019607843137, 0.7475728155339806, 0.7403846153846154, 0.7428571428571429, 0.7358490566037735, 0.7289719626168224, 0.7314814814814815, 0.7247706422018348, 0.7181818181818181, 0.7117117117117117, 0.7053571428571429, 0.6991150442477876, 0.6956521739130435, 0.6982758620689655, 0.7058823529411765, 0.7, 0.7049180327868853, 0.6935483870967742, 0.696, 0.676923076923077, 0.6717557251908397, 0.6666666666666666, 0.6616541353383458, 0.6567164179104478, 0.6518518518518519, 0.6423357664233577, 0.6330935251798561, 0.6285714285714286, 0.624113475177305, 0.6197183098591549, 0.6153846153846154, 0.6068965517241379, 0.6027397260273972, 0.5986394557823129, 0.5945945945945946, 0.5906040268456376, 0.5827814569536424, 0.5789473684210527, 0.5816993464052288, 0.577922077922078, 0.5723270440251572, 0.5679012345679012, 0.5542168674698795, 0.5502958579881657, 0.543859649122807, 0.5406976744186046, 0.45662100456621, 0.45454545454545453, 0.45248868778280543, 0.4484304932735426, 0.4533333333333333, 0.41338582677165353, 0.4117647058823529, 0.4140625, 0.41245136186770426, 0.4108527131782946, 0.4092664092664093, 0.4076923076923077, 0.40458015267175573, 0.40304182509505704, 0.39114391143911437, 0.39338235294117646, 0.39194139194139194, 0.3905109489051095, 0.38768115942028986, 0.38848920863309355, 0.3870967741935484, 0.38571428571428573, 0.38434163701067614, 0.38652482269503546, 0.38515901060070673, 0.38380281690140844, 0.38596491228070173, 0.38461538461538464 ],\r\n",
       "  \"recallByThreshold\" : [ 0.01818181818181818, 0.02727272727272727, 0.03636363636363636, 0.03636363636363636, 0.06363636363636363, 0.08181818181818182, 0.09090909090909091, 0.1, 0.11818181818181818, 0.13636363636363635, 0.14545454545454545, 0.15454545454545454, 0.16363636363636364, 0.18181818181818182, 0.18181818181818182, 0.2, 0.20909090909090908, 0.21818181818181817, 0.22727272727272727, 0.23636363636363636, 0.24545454545454545, 0.2545454545454545, 0.2636363636363636, 0.2727272727272727, 0.2818181818181818, 0.2909090909090909, 0.3, 0.3090909090909091, 0.3181818181818182, 0.32727272727272727, 0.33636363636363636, 0.34545454545454546, 0.35454545454545455, 0.36363636363636365, 0.37272727272727274, 0.38181818181818183, 0.39090909090909093, 0.4, 0.41818181818181815, 0.42727272727272725, 0.44545454545454544, 0.45454545454545453, 0.4636363636363636, 0.4727272727272727, 0.4818181818181818, 0.4909090909090909, 0.5, 0.5545454545454546, 0.5636363636363636, 0.5636363636363636, 0.5727272727272728, 0.5818181818181818, 0.5909090909090909, 0.6, 0.6, 0.6, 0.6, 0.6090909090909091, 0.6090909090909091, 0.6181818181818182, 0.6272727272727273, 0.6272727272727273, 0.6363636363636364, 0.6363636363636364, 0.6454545454545455, 0.6545454545454545, 0.6636363636363637, 0.6636363636363637, 0.6727272727272727, 0.6727272727272727, 0.6818181818181818, 0.6818181818181818, 0.6909090909090909, 0.7, 0.7, 0.7, 0.7, 0.7090909090909091, 0.7090909090909091, 0.7090909090909091, 0.7181818181818181, 0.7181818181818181, 0.7181818181818181, 0.7181818181818181, 0.7181818181818181, 0.7181818181818181, 0.7272727272727273, 0.7363636363636363, 0.7636363636363637, 0.7636363636363637, 0.7818181818181819, 0.7818181818181819, 0.7909090909090909, 0.8, 0.8, 0.8, 0.8, 0.8, 0.8, 0.8, 0.8, 0.8, 0.8, 0.8, 0.8, 0.8, 0.8, 0.8, 0.8, 0.8, 0.8, 0.8, 0.8090909090909091, 0.8090909090909091, 0.8272727272727273, 0.8363636363636363, 0.8363636363636363, 0.8454545454545455, 0.8454545454545455, 0.8454545454545455, 0.9090909090909091, 0.9090909090909091, 0.9090909090909091, 0.9090909090909091, 0.9272727272727272, 0.9545454545454546, 0.9545454545454546, 0.9636363636363636, 0.9636363636363636, 0.9636363636363636, 0.9636363636363636, 0.9636363636363636, 0.9636363636363636, 0.9636363636363636, 0.9636363636363636, 0.9727272727272728, 0.9727272727272728, 0.9727272727272728, 0.9727272727272728, 0.9818181818181818, 0.9818181818181818, 0.9818181818181818, 0.9818181818181818, 0.990909090909091, 0.990909090909091, 0.990909090909091, 1.0, 1.0 ],\r\n",
       "  \"falsePositiveRateByThreshold\" : [ 0.0, 0.0, 0.0, 0.005681818181818182, 0.005681818181818182, 0.005681818181818182, 0.005681818181818182, 0.005681818181818182, 0.011363636363636364, 0.011363636363636364, 0.011363636363636364, 0.011363636363636364, 0.011363636363636364, 0.011363636363636364, 0.017045454545454544, 0.017045454545454544, 0.017045454545454544, 0.017045454545454544, 0.017045454545454544, 0.017045454545454544, 0.017045454545454544, 0.017045454545454544, 0.017045454545454544, 0.017045454545454544, 0.017045454545454544, 0.017045454545454544, 0.017045454545454544, 0.017045454545454544, 0.017045454545454544, 0.017045454545454544, 0.017045454545454544, 0.017045454545454544, 0.017045454545454544, 0.017045454545454544, 0.017045454545454544, 0.017045454545454544, 0.017045454545454544, 0.022727272727272728, 0.022727272727272728, 0.022727272727272728, 0.022727272727272728, 0.022727272727272728, 0.022727272727272728, 0.022727272727272728, 0.022727272727272728, 0.022727272727272728, 0.022727272727272728, 0.028409090909090908, 0.028409090909090908, 0.03409090909090909, 0.03409090909090909, 0.03409090909090909, 0.03409090909090909, 0.03409090909090909, 0.03977272727272727, 0.045454545454545456, 0.05113636363636364, 0.05113636363636364, 0.056818181818181816, 0.056818181818181816, 0.07386363636363637, 0.07954545454545454, 0.07954545454545454, 0.08522727272727272, 0.08522727272727272, 0.10795454545454546, 0.10795454545454546, 0.11363636363636363, 0.11363636363636363, 0.11931818181818182, 0.11931818181818182, 0.13068181818181818, 0.13068181818181818, 0.13636363636363635, 0.14204545454545456, 0.14772727272727273, 0.1534090909090909, 0.1534090909090909, 0.1590909090909091, 0.16477272727272727, 0.16477272727272727, 0.17045454545454544, 0.17613636363636365, 0.18181818181818182, 0.1875, 0.19318181818181818, 0.19886363636363635, 0.19886363636363635, 0.19886363636363635, 0.20454545454545456, 0.20454545454545456, 0.2159090909090909, 0.2159090909090909, 0.23863636363636365, 0.24431818181818182, 0.25, 0.2556818181818182, 0.26136363636363635, 0.26704545454545453, 0.2784090909090909, 0.2897727272727273, 0.29545454545454547, 0.30113636363636365, 0.3068181818181818, 0.3125, 0.32386363636363635, 0.32954545454545453, 0.3352272727272727, 0.3409090909090909, 0.3465909090909091, 0.35795454545454547, 0.36363636363636365, 0.36363636363636365, 0.3693181818181818, 0.38636363636363635, 0.3977272727272727, 0.42045454545454547, 0.4318181818181818, 0.4431818181818182, 0.44886363636363635, 0.6761363636363636, 0.6818181818181818, 0.6875, 0.6988636363636364, 0.6988636363636364, 0.8465909090909091, 0.8522727272727273, 0.8522727272727273, 0.8579545454545454, 0.8636363636363636, 0.8693181818181818, 0.875, 0.8863636363636364, 0.8920454545454546, 0.9375, 0.9375, 0.9431818181818182, 0.9488636363636364, 0.9602272727272727, 0.9659090909090909, 0.9715909090909091, 0.9772727272727273, 0.9829545454545454, 0.9829545454545454, 0.9886363636363636, 0.9943181818181818, 0.9943181818181818, 1.0 ]\r\n",
       "}"
      ]
     },
     "execution_count": 39,
     "metadata": {},
     "output_type": "execute_result"
    }
   ],
   "source": [
    "val metrics = fittedWorkflow.evaluate(eval)"
   ]
  },
  {
   "cell_type": "code",
   "execution_count": 40,
   "metadata": {},
   "outputs": [
    {
     "data": {
      "application/vnd.jupyter.widget-view+json": {
       "model_id": "32d42640-d7e2-4cb2-ada9-e23644afcd48",
       "version_major": 2,
       "version_minor": 0
      },
      "method": "display_data"
     },
     "metadata": {},
     "output_type": "display_data"
    }
   ],
   "source": [
    "metrics.toMap"
   ]
  },
  {
   "cell_type": "markdown",
   "metadata": {},
   "source": [
    "# Kaggle Test Data"
   ]
  },
  {
   "cell_type": "code",
   "execution_count": 43,
   "metadata": {},
   "outputs": [
    {
     "data": {
      "text/plain": [
       "null"
      ]
     },
     "execution_count": 43,
     "metadata": {},
     "output_type": "execute_result"
    }
   ],
   "source": [
    "val rawKaggleData = sqlContext.read.format(\"csv\").options(readerOptions).load(\"data/test.csv\").selectExpr(\"*\", \"1d as Survived\")\n",
    "rawKaggleData.createOrReplaceTempView(\"data\")"
   ]
  },
  {
   "cell_type": "code",
   "execution_count": 44,
   "metadata": {},
   "outputs": [
    {
     "name": "stdout",
     "output_type": "stream",
     "text": [
      "+-----------+--------+------+--------------------+------+----+-----+-----+-------+-------+-----+--------+\n",
      "|PassengerId|Survived|Pclass|                Name|   Sex| Age|SibSp|Parch| Ticket|   Fare|Cabin|Embarked|\n",
      "+-----------+--------+------+--------------------+------+----+-----+-----+-------+-------+-----+--------+\n",
      "|        892|     1.0|     3|    Kelly, Mr. James|  male|34.5|    0|    0| 330911| 7.8292| null|       Q|\n",
      "|        893|     1.0|     3|Wilkes, Mrs. Jame...|female|47.0|    1|    0| 363272|    7.0| null|       S|\n",
      "|        894|     1.0|     2|Myles, Mr. Thomas...|  male|62.0|    0|    0| 240276| 9.6875| null|       Q|\n",
      "|        895|     1.0|     3|    Wirz, Mr. Albert|  male|27.0|    0|    0| 315154| 8.6625| null|       S|\n",
      "|        896|     1.0|     3|Hirvonen, Mrs. Al...|female|22.0|    1|    1|3101298|12.2875| null|       S|\n",
      "+-----------+--------+------+--------------------+------+----+-----+-----+-------+-------+-----+--------+\n",
      "only showing top 5 rows\n",
      "\n"
     ]
    },
    {
     "data": {
      "text/plain": [
       "null"
      ]
     },
     "execution_count": 44,
     "metadata": {},
     "output_type": "execute_result"
    }
   ],
   "source": [
    "val kaggle = spark.sql(query)\n",
    "kaggle.show(5)"
   ]
  },
  {
   "cell_type": "code",
   "execution_count": 45,
   "metadata": {},
   "outputs": [
    {
     "name": "stdout",
     "output_type": "stream",
     "text": [
      "+-----------+--------------------+\n",
      "|PassengerId|          prediction|\n",
      "+-----------+--------------------+\n",
      "|        892|[probability_1 ->...|\n",
      "|        893|[probability_1 ->...|\n",
      "|        894|[probability_1 ->...|\n",
      "|        895|[probability_1 ->...|\n",
      "|        896|[probability_1 ->...|\n",
      "+-----------+--------------------+\n",
      "only showing top 5 rows\n",
      "\n"
     ]
    },
    {
     "data": {
      "text/plain": [
       "null"
      ]
     },
     "execution_count": 45,
     "metadata": {},
     "output_type": "execute_result"
    }
   ],
   "source": [
    "fittedWorkflow.setInputDataset(kaggle)\n",
    "\n",
    "val scoredKaggle = fittedWorkflow.score().select(\"PassengerId\", \"prediction\")\n",
    "scoredKaggle.show(5)"
   ]
  },
  {
   "cell_type": "code",
   "execution_count": 46,
   "metadata": {},
   "outputs": [
    {
     "data": {
      "text/plain": [
       "[[892,Map(probability_1 -> 0.08294475215166364, probability_0 -> 0.9170552478483364, rawPrediction_0 -> 1.2014964847389487, prediction -> 0.0, rawPrediction_1 -> -1.2014964847389487)]]"
      ]
     },
     "execution_count": 46,
     "metadata": {},
     "output_type": "execute_result"
    }
   ],
   "source": [
    "scoredKaggle.take(1)"
   ]
  },
  {
   "cell_type": "code",
   "execution_count": 48,
   "metadata": {},
   "outputs": [
    {
     "data": {
      "text/plain": [
       "UserDefinedFunction(<function1>,IntegerType,Some(List(MapType(StringType,DoubleType,false))))"
      ]
     },
     "execution_count": 48,
     "metadata": {},
     "output_type": "execute_result"
    }
   ],
   "source": [
    "val getScore = udf{ map: Map[String, Double] => if(map(\"probability_1\") > 0.5) 1 else 0 }"
   ]
  },
  {
   "cell_type": "code",
   "execution_count": 52,
   "metadata": {},
   "outputs": [],
   "source": [
    "scoredKaggle.withColumn( \n",
    "    \"SurvivalPrediction\", getScore( scoredKaggle.col(\"prediction\")) \n",
    ").select(\"PassengerId\", \"SurvivalPrediction\").repartition(1).write.csv(\"myprediction_1\")"
   ]
  },
  {
   "cell_type": "code",
   "execution_count": null,
   "metadata": {},
   "outputs": [],
   "source": []
  }
 ],
 "metadata": {
  "kernelspec": {
   "display_name": "Scala",
   "language": "scala",
   "name": "scala"
  },
  "language_info": {
   "codemirror_mode": "text/x-scala",
   "file_extension": ".scala",
   "mimetype": "",
   "name": "Scala",
   "nbconverter_exporter": "",
   "version": "2.11.12"
  },
  "toc": {
   "base_numbering": 1,
   "nav_menu": {},
   "number_sections": false,
   "sideBar": false,
   "skip_h1_title": false,
   "title_cell": "Table of Contents",
   "title_sidebar": "Contents",
   "toc_cell": false,
   "toc_position": {},
   "toc_section_display": false,
   "toc_window_display": false
  }
 },
 "nbformat": 4,
 "nbformat_minor": 2
}
